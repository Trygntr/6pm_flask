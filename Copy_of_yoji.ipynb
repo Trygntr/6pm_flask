{
  "cells": [
    {
      "cell_type": "code",
      "execution_count": 1,
      "metadata": {
        "id": "ZDva4-qzidj1"
      },
      "outputs": [],
      "source": [
        "import pandas as pd\n",
        "import tensorflow as tf\n",
        "import gdown\n",
        "import numpy as np\n",
        "\n",
        "from sklearn.model_selection import train_test_split\n",
        "from sklearn.preprocessing import MultiLabelBinarizer"
      ]
    },
    {
      "cell_type": "code",
      "execution_count": 2,
      "metadata": {
        "colab": {
          "base_uri": "https://localhost:8080/",
          "height": 105
        },
        "id": "kYVo2eucoyB_",
        "outputId": "6f955f14-28b8-4259-c5e6-8c370deedaba"
      },
      "outputs": [
        {
          "name": "stderr",
          "output_type": "stream",
          "text": [
            "Downloading...\n",
            "From: https://drive.google.com/uc?id=1a6TppDeLhFhKso9vkYzRdPfualSRmRFf\n",
            "To: /content/datadummy50k_new_grouped\n",
            "100%|██████████| 6.90M/6.90M [00:00<00:00, 213MB/s]\n"
          ]
        },
        {
          "data": {
            "application/vnd.google.colaboratory.intrinsic+json": {
              "type": "string"
            },
            "text/plain": [
              "'datadummy50k_new_grouped'"
            ]
          },
          "execution_count": 2,
          "metadata": {},
          "output_type": "execute_result"
        }
      ],
      "source": [
        "# Preparing the pandas dataframe\n",
        "\n",
        "id = \"1a6TppDeLhFhKso9vkYzRdPfualSRmRFf\"\n",
        "output = \"datadummy50k_new_grouped\"\n",
        "gdown.download(id=id, output=output, quiet=False)"
      ]
    },
    {
      "cell_type": "code",
      "execution_count": 3,
      "metadata": {
        "colab": {
          "base_uri": "https://localhost:8080/",
          "height": 423
        },
        "id": "7uwLVR3Foz35",
        "outputId": "aaa31c4b-9d3f-4c92-bff9-10ec43cf9160"
      },
      "outputs": [
        {
          "data": {
            "text/html": [
              "\n",
              "  <div id=\"df-a0f7a366-e491-4e40-8b62-282e8cd3920f\">\n",
              "    <div class=\"colab-df-container\">\n",
              "      <div>\n",
              "<style scoped>\n",
              "    .dataframe tbody tr th:only-of-type {\n",
              "        vertical-align: middle;\n",
              "    }\n",
              "\n",
              "    .dataframe tbody tr th {\n",
              "        vertical-align: top;\n",
              "    }\n",
              "\n",
              "    .dataframe thead th {\n",
              "        text-align: right;\n",
              "    }\n",
              "</style>\n",
              "<table border=\"1\" class=\"dataframe\">\n",
              "  <thead>\n",
              "    <tr style=\"text-align: right;\">\n",
              "      <th></th>\n",
              "      <th>Project Type</th>\n",
              "      <th>Topics</th>\n",
              "      <th>Sub Topic</th>\n",
              "      <th>Difficulty</th>\n",
              "      <th>Workers</th>\n",
              "    </tr>\n",
              "  </thead>\n",
              "  <tbody>\n",
              "    <tr>\n",
              "      <th>0</th>\n",
              "      <td>ML</td>\n",
              "      <td>Time-series</td>\n",
              "      <td>LSTM</td>\n",
              "      <td>6</td>\n",
              "      <td>[Gabriel Kheisa, Nyoman Satiya Najwa Sadha, Ch...</td>\n",
              "    </tr>\n",
              "    <tr>\n",
              "      <th>1</th>\n",
              "      <td>Front End</td>\n",
              "      <td>Front End</td>\n",
              "      <td>Angular</td>\n",
              "      <td>17</td>\n",
              "      <td>[Andi Rezal Oktavianto, Imam, Abiyyu Diora Haq...</td>\n",
              "    </tr>\n",
              "    <tr>\n",
              "      <th>2</th>\n",
              "      <td>Front End</td>\n",
              "      <td>Front End</td>\n",
              "      <td>Angular</td>\n",
              "      <td>18</td>\n",
              "      <td>[Andi Rezal Oktavianto, Imam, Abiyyu Diora Haq...</td>\n",
              "    </tr>\n",
              "    <tr>\n",
              "      <th>3</th>\n",
              "      <td>ML</td>\n",
              "      <td>Computer Vision</td>\n",
              "      <td>Object Detection</td>\n",
              "      <td>16</td>\n",
              "      <td>[Andhika Zulfikri, I Putu Ranantha Nugraha Sup...</td>\n",
              "    </tr>\n",
              "    <tr>\n",
              "      <th>4</th>\n",
              "      <td>Back End</td>\n",
              "      <td>Back End</td>\n",
              "      <td>Django</td>\n",
              "      <td>15</td>\n",
              "      <td>[Chairul Rizqi, Sandrian Yulianto, Abdullah Nu...</td>\n",
              "    </tr>\n",
              "    <tr>\n",
              "      <th>...</th>\n",
              "      <td>...</td>\n",
              "      <td>...</td>\n",
              "      <td>...</td>\n",
              "      <td>...</td>\n",
              "      <td>...</td>\n",
              "    </tr>\n",
              "    <tr>\n",
              "      <th>49995</th>\n",
              "      <td>Back End</td>\n",
              "      <td>Back End</td>\n",
              "      <td>Express.js</td>\n",
              "      <td>10</td>\n",
              "      <td>[Abdullah Nur Hudi, Vania Kylie, Wahyu Fauzan,...</td>\n",
              "    </tr>\n",
              "    <tr>\n",
              "      <th>49996</th>\n",
              "      <td>Back End</td>\n",
              "      <td>Back End</td>\n",
              "      <td>Express.js</td>\n",
              "      <td>20</td>\n",
              "      <td>[Abdullah Nur Hudi, Vania Kylie, Wahyu Fauzan,...</td>\n",
              "    </tr>\n",
              "    <tr>\n",
              "      <th>49997</th>\n",
              "      <td>ML</td>\n",
              "      <td>Time-series</td>\n",
              "      <td>LSTM</td>\n",
              "      <td>19</td>\n",
              "      <td>[Gabriel Kheisa, Rikip Ginanjar, Nyoman Satiya...</td>\n",
              "    </tr>\n",
              "    <tr>\n",
              "      <th>49998</th>\n",
              "      <td>Back End</td>\n",
              "      <td>Back End</td>\n",
              "      <td>Django</td>\n",
              "      <td>15</td>\n",
              "      <td>[Chairul Rizqi, Sandrian Yulianto, Abdullah Nu...</td>\n",
              "    </tr>\n",
              "    <tr>\n",
              "      <th>49999</th>\n",
              "      <td>ML</td>\n",
              "      <td>Computer Vision</td>\n",
              "      <td>Object Detection</td>\n",
              "      <td>18</td>\n",
              "      <td>[Andhika Zulfikri, Sarah Sema Khairunisa, Riki...</td>\n",
              "    </tr>\n",
              "  </tbody>\n",
              "</table>\n",
              "<p>50000 rows × 5 columns</p>\n",
              "</div>\n",
              "      <button class=\"colab-df-convert\" onclick=\"convertToInteractive('df-a0f7a366-e491-4e40-8b62-282e8cd3920f')\"\n",
              "              title=\"Convert this dataframe to an interactive table.\"\n",
              "              style=\"display:none;\">\n",
              "        \n",
              "  <svg xmlns=\"http://www.w3.org/2000/svg\" height=\"24px\"viewBox=\"0 0 24 24\"\n",
              "       width=\"24px\">\n",
              "    <path d=\"M0 0h24v24H0V0z\" fill=\"none\"/>\n",
              "    <path d=\"M18.56 5.44l.94 2.06.94-2.06 2.06-.94-2.06-.94-.94-2.06-.94 2.06-2.06.94zm-11 1L8.5 8.5l.94-2.06 2.06-.94-2.06-.94L8.5 2.5l-.94 2.06-2.06.94zm10 10l.94 2.06.94-2.06 2.06-.94-2.06-.94-.94-2.06-.94 2.06-2.06.94z\"/><path d=\"M17.41 7.96l-1.37-1.37c-.4-.4-.92-.59-1.43-.59-.52 0-1.04.2-1.43.59L10.3 9.45l-7.72 7.72c-.78.78-.78 2.05 0 2.83L4 21.41c.39.39.9.59 1.41.59.51 0 1.02-.2 1.41-.59l7.78-7.78 2.81-2.81c.8-.78.8-2.07 0-2.86zM5.41 20L4 18.59l7.72-7.72 1.47 1.35L5.41 20z\"/>\n",
              "  </svg>\n",
              "      </button>\n",
              "      \n",
              "  <style>\n",
              "    .colab-df-container {\n",
              "      display:flex;\n",
              "      flex-wrap:wrap;\n",
              "      gap: 12px;\n",
              "    }\n",
              "\n",
              "    .colab-df-convert {\n",
              "      background-color: #E8F0FE;\n",
              "      border: none;\n",
              "      border-radius: 50%;\n",
              "      cursor: pointer;\n",
              "      display: none;\n",
              "      fill: #1967D2;\n",
              "      height: 32px;\n",
              "      padding: 0 0 0 0;\n",
              "      width: 32px;\n",
              "    }\n",
              "\n",
              "    .colab-df-convert:hover {\n",
              "      background-color: #E2EBFA;\n",
              "      box-shadow: 0px 1px 2px rgba(60, 64, 67, 0.3), 0px 1px 3px 1px rgba(60, 64, 67, 0.15);\n",
              "      fill: #174EA6;\n",
              "    }\n",
              "\n",
              "    [theme=dark] .colab-df-convert {\n",
              "      background-color: #3B4455;\n",
              "      fill: #D2E3FC;\n",
              "    }\n",
              "\n",
              "    [theme=dark] .colab-df-convert:hover {\n",
              "      background-color: #434B5C;\n",
              "      box-shadow: 0px 1px 3px 1px rgba(0, 0, 0, 0.15);\n",
              "      filter: drop-shadow(0px 1px 2px rgba(0, 0, 0, 0.3));\n",
              "      fill: #FFFFFF;\n",
              "    }\n",
              "  </style>\n",
              "\n",
              "      <script>\n",
              "        const buttonEl =\n",
              "          document.querySelector('#df-a0f7a366-e491-4e40-8b62-282e8cd3920f button.colab-df-convert');\n",
              "        buttonEl.style.display =\n",
              "          google.colab.kernel.accessAllowed ? 'block' : 'none';\n",
              "\n",
              "        async function convertToInteractive(key) {\n",
              "          const element = document.querySelector('#df-a0f7a366-e491-4e40-8b62-282e8cd3920f');\n",
              "          const dataTable =\n",
              "            await google.colab.kernel.invokeFunction('convertToInteractive',\n",
              "                                                     [key], {});\n",
              "          if (!dataTable) return;\n",
              "\n",
              "          const docLinkHtml = 'Like what you see? Visit the ' +\n",
              "            '<a target=\"_blank\" href=https://colab.research.google.com/notebooks/data_table.ipynb>data table notebook</a>'\n",
              "            + ' to learn more about interactive tables.';\n",
              "          element.innerHTML = '';\n",
              "          dataTable['output_type'] = 'display_data';\n",
              "          await google.colab.output.renderOutput(dataTable, element);\n",
              "          const docLink = document.createElement('div');\n",
              "          docLink.innerHTML = docLinkHtml;\n",
              "          element.appendChild(docLink);\n",
              "        }\n",
              "      </script>\n",
              "    </div>\n",
              "  </div>\n",
              "  "
            ],
            "text/plain": [
              "      Project Type           Topics         Sub Topic  Difficulty  \\\n",
              "0               ML      Time-series              LSTM           6   \n",
              "1        Front End        Front End           Angular          17   \n",
              "2        Front End        Front End           Angular          18   \n",
              "3               ML  Computer Vision  Object Detection          16   \n",
              "4         Back End         Back End            Django          15   \n",
              "...            ...              ...               ...         ...   \n",
              "49995     Back End         Back End        Express.js          10   \n",
              "49996     Back End         Back End        Express.js          20   \n",
              "49997           ML      Time-series              LSTM          19   \n",
              "49998     Back End         Back End            Django          15   \n",
              "49999           ML  Computer Vision  Object Detection          18   \n",
              "\n",
              "                                                 Workers  \n",
              "0      [Gabriel Kheisa, Nyoman Satiya Najwa Sadha, Ch...  \n",
              "1      [Andi Rezal Oktavianto, Imam, Abiyyu Diora Haq...  \n",
              "2      [Andi Rezal Oktavianto, Imam, Abiyyu Diora Haq...  \n",
              "3      [Andhika Zulfikri, I Putu Ranantha Nugraha Sup...  \n",
              "4      [Chairul Rizqi, Sandrian Yulianto, Abdullah Nu...  \n",
              "...                                                  ...  \n",
              "49995  [Abdullah Nur Hudi, Vania Kylie, Wahyu Fauzan,...  \n",
              "49996  [Abdullah Nur Hudi, Vania Kylie, Wahyu Fauzan,...  \n",
              "49997  [Gabriel Kheisa, Rikip Ginanjar, Nyoman Satiya...  \n",
              "49998  [Chairul Rizqi, Sandrian Yulianto, Abdullah Nu...  \n",
              "49999  [Andhika Zulfikri, Sarah Sema Khairunisa, Riki...  \n",
              "\n",
              "[50000 rows x 5 columns]"
            ]
          },
          "execution_count": 3,
          "metadata": {},
          "output_type": "execute_result"
        }
      ],
      "source": [
        "df = pd.read_csv(f\"/content/{output}\")\n",
        "\n",
        "# Cleaning the unused columns\n",
        "df = df.drop(df.columns[[0]], axis=1)\n",
        "\n",
        "# Transform 'Workers' from strings into lists\n",
        "df['Workers'] = df['Workers'].str.replace(\"[\\'\\[\\]]\",\"\",regex=True)\n",
        "df['Workers'] = df['Workers'].str.replace(\", \",\"|\",regex=True)\n",
        "df['Workers'] = df['Workers'].apply(lambda s: [l for l in str(s).split('|')])\n",
        "df\n"
      ]
    },
    {
      "cell_type": "code",
      "execution_count": 4,
      "metadata": {
        "colab": {
          "base_uri": "https://localhost:8080/"
        },
        "id": "mZA-LSiZ9B5u",
        "outputId": "f0f13a20-7122-43c9-f01d-dc18309f8aa3"
      },
      "outputs": [
        {
          "name": "stdout",
          "output_type": "stream",
          "text": [
            "{0: 'Back End', 1: 'Classification & Regression', 2: 'Computer Vision', 3: 'Data Engineering', 4: 'Front End', 5: 'NLP', 6: 'Speech / Audio', 7: 'Time-series'} {0: 'ARIMA', 1: 'Angular', 2: 'Data Warehousing', 3: 'Django', 4: 'Ember.js', 5: 'Express.js', 6: 'LSTM', 7: 'Linear Regression', 8: 'Logistic Regression', 9: 'Music Information Retrieval', 10: 'Node.js', 11: 'Object Detection', 12: 'React', 13: 'Sentiment Analysis', 14: 'Speech Recognition', 15: 'Topic Modeling'} {0: 'Back End', 1: 'Front End', 2: 'ML'}\n"
          ]
        }
      ],
      "source": [
        "# Create dictionaries\n",
        "# Assuming you have a DataFrame called 'df' and you want to rename the column 'old_column' to 'new_column'\n",
        "df.rename(columns={'Project Type': 'Project_Type'}, inplace=True)\n",
        "df.rename(columns={'Sub Topic': 'Sub_Topic'}, inplace=True)\n",
        "\n",
        "\n",
        "top_dict = dict(enumerate(df[\"Topics\"].astype('category').cat.categories))\n",
        "subtop_dict = dict(enumerate(df[\"Sub_Topic\"].astype('category').cat.categories))\n",
        "ptype_dict = dict(enumerate(df[\"Project_Type\"].astype('category').cat.categories))\n",
        "\n",
        "print(top_dict, subtop_dict, ptype_dict)"
      ]
    },
    {
      "cell_type": "code",
      "execution_count": 5,
      "metadata": {
        "colab": {
          "base_uri": "https://localhost:8080/",
          "height": 206
        },
        "id": "HqdDDx199YgO",
        "outputId": "665bd766-2f78-4661-d41a-f4264f82ac48"
      },
      "outputs": [
        {
          "data": {
            "text/html": [
              "\n",
              "  <div id=\"df-37a38d3e-8f15-44b3-93db-4ccb71ccb44b\">\n",
              "    <div class=\"colab-df-container\">\n",
              "      <div>\n",
              "<style scoped>\n",
              "    .dataframe tbody tr th:only-of-type {\n",
              "        vertical-align: middle;\n",
              "    }\n",
              "\n",
              "    .dataframe tbody tr th {\n",
              "        vertical-align: top;\n",
              "    }\n",
              "\n",
              "    .dataframe thead th {\n",
              "        text-align: right;\n",
              "    }\n",
              "</style>\n",
              "<table border=\"1\" class=\"dataframe\">\n",
              "  <thead>\n",
              "    <tr style=\"text-align: right;\">\n",
              "      <th></th>\n",
              "      <th>Project_Type</th>\n",
              "      <th>Topics</th>\n",
              "      <th>Sub_Topic</th>\n",
              "      <th>Difficulty</th>\n",
              "      <th>Workers</th>\n",
              "    </tr>\n",
              "  </thead>\n",
              "  <tbody>\n",
              "    <tr>\n",
              "      <th>0</th>\n",
              "      <td>2</td>\n",
              "      <td>7</td>\n",
              "      <td>6</td>\n",
              "      <td>6</td>\n",
              "      <td>[Gabriel Kheisa, Nyoman Satiya Najwa Sadha, Ch...</td>\n",
              "    </tr>\n",
              "    <tr>\n",
              "      <th>1</th>\n",
              "      <td>1</td>\n",
              "      <td>4</td>\n",
              "      <td>1</td>\n",
              "      <td>17</td>\n",
              "      <td>[Andi Rezal Oktavianto, Imam, Abiyyu Diora Haq...</td>\n",
              "    </tr>\n",
              "    <tr>\n",
              "      <th>2</th>\n",
              "      <td>1</td>\n",
              "      <td>4</td>\n",
              "      <td>1</td>\n",
              "      <td>18</td>\n",
              "      <td>[Andi Rezal Oktavianto, Imam, Abiyyu Diora Haq...</td>\n",
              "    </tr>\n",
              "    <tr>\n",
              "      <th>3</th>\n",
              "      <td>2</td>\n",
              "      <td>2</td>\n",
              "      <td>11</td>\n",
              "      <td>16</td>\n",
              "      <td>[Andhika Zulfikri, I Putu Ranantha Nugraha Sup...</td>\n",
              "    </tr>\n",
              "    <tr>\n",
              "      <th>4</th>\n",
              "      <td>0</td>\n",
              "      <td>0</td>\n",
              "      <td>3</td>\n",
              "      <td>15</td>\n",
              "      <td>[Chairul Rizqi, Sandrian Yulianto, Abdullah Nu...</td>\n",
              "    </tr>\n",
              "  </tbody>\n",
              "</table>\n",
              "</div>\n",
              "      <button class=\"colab-df-convert\" onclick=\"convertToInteractive('df-37a38d3e-8f15-44b3-93db-4ccb71ccb44b')\"\n",
              "              title=\"Convert this dataframe to an interactive table.\"\n",
              "              style=\"display:none;\">\n",
              "        \n",
              "  <svg xmlns=\"http://www.w3.org/2000/svg\" height=\"24px\"viewBox=\"0 0 24 24\"\n",
              "       width=\"24px\">\n",
              "    <path d=\"M0 0h24v24H0V0z\" fill=\"none\"/>\n",
              "    <path d=\"M18.56 5.44l.94 2.06.94-2.06 2.06-.94-2.06-.94-.94-2.06-.94 2.06-2.06.94zm-11 1L8.5 8.5l.94-2.06 2.06-.94-2.06-.94L8.5 2.5l-.94 2.06-2.06.94zm10 10l.94 2.06.94-2.06 2.06-.94-2.06-.94-.94-2.06-.94 2.06-2.06.94z\"/><path d=\"M17.41 7.96l-1.37-1.37c-.4-.4-.92-.59-1.43-.59-.52 0-1.04.2-1.43.59L10.3 9.45l-7.72 7.72c-.78.78-.78 2.05 0 2.83L4 21.41c.39.39.9.59 1.41.59.51 0 1.02-.2 1.41-.59l7.78-7.78 2.81-2.81c.8-.78.8-2.07 0-2.86zM5.41 20L4 18.59l7.72-7.72 1.47 1.35L5.41 20z\"/>\n",
              "  </svg>\n",
              "      </button>\n",
              "      \n",
              "  <style>\n",
              "    .colab-df-container {\n",
              "      display:flex;\n",
              "      flex-wrap:wrap;\n",
              "      gap: 12px;\n",
              "    }\n",
              "\n",
              "    .colab-df-convert {\n",
              "      background-color: #E8F0FE;\n",
              "      border: none;\n",
              "      border-radius: 50%;\n",
              "      cursor: pointer;\n",
              "      display: none;\n",
              "      fill: #1967D2;\n",
              "      height: 32px;\n",
              "      padding: 0 0 0 0;\n",
              "      width: 32px;\n",
              "    }\n",
              "\n",
              "    .colab-df-convert:hover {\n",
              "      background-color: #E2EBFA;\n",
              "      box-shadow: 0px 1px 2px rgba(60, 64, 67, 0.3), 0px 1px 3px 1px rgba(60, 64, 67, 0.15);\n",
              "      fill: #174EA6;\n",
              "    }\n",
              "\n",
              "    [theme=dark] .colab-df-convert {\n",
              "      background-color: #3B4455;\n",
              "      fill: #D2E3FC;\n",
              "    }\n",
              "\n",
              "    [theme=dark] .colab-df-convert:hover {\n",
              "      background-color: #434B5C;\n",
              "      box-shadow: 0px 1px 3px 1px rgba(0, 0, 0, 0.15);\n",
              "      filter: drop-shadow(0px 1px 2px rgba(0, 0, 0, 0.3));\n",
              "      fill: #FFFFFF;\n",
              "    }\n",
              "  </style>\n",
              "\n",
              "      <script>\n",
              "        const buttonEl =\n",
              "          document.querySelector('#df-37a38d3e-8f15-44b3-93db-4ccb71ccb44b button.colab-df-convert');\n",
              "        buttonEl.style.display =\n",
              "          google.colab.kernel.accessAllowed ? 'block' : 'none';\n",
              "\n",
              "        async function convertToInteractive(key) {\n",
              "          const element = document.querySelector('#df-37a38d3e-8f15-44b3-93db-4ccb71ccb44b');\n",
              "          const dataTable =\n",
              "            await google.colab.kernel.invokeFunction('convertToInteractive',\n",
              "                                                     [key], {});\n",
              "          if (!dataTable) return;\n",
              "\n",
              "          const docLinkHtml = 'Like what you see? Visit the ' +\n",
              "            '<a target=\"_blank\" href=https://colab.research.google.com/notebooks/data_table.ipynb>data table notebook</a>'\n",
              "            + ' to learn more about interactive tables.';\n",
              "          element.innerHTML = '';\n",
              "          dataTable['output_type'] = 'display_data';\n",
              "          await google.colab.output.renderOutput(dataTable, element);\n",
              "          const docLink = document.createElement('div');\n",
              "          docLink.innerHTML = docLinkHtml;\n",
              "          element.appendChild(docLink);\n",
              "        }\n",
              "      </script>\n",
              "    </div>\n",
              "  </div>\n",
              "  "
            ],
            "text/plain": [
              "   Project_Type  Topics  Sub_Topic  Difficulty  \\\n",
              "0             2       7          6           6   \n",
              "1             1       4          1          17   \n",
              "2             1       4          1          18   \n",
              "3             2       2         11          16   \n",
              "4             0       0          3          15   \n",
              "\n",
              "                                             Workers  \n",
              "0  [Gabriel Kheisa, Nyoman Satiya Najwa Sadha, Ch...  \n",
              "1  [Andi Rezal Oktavianto, Imam, Abiyyu Diora Haq...  \n",
              "2  [Andi Rezal Oktavianto, Imam, Abiyyu Diora Haq...  \n",
              "3  [Andhika Zulfikri, I Putu Ranantha Nugraha Sup...  \n",
              "4  [Chairul Rizqi, Sandrian Yulianto, Abdullah Nu...  "
            ]
          },
          "execution_count": 5,
          "metadata": {},
          "output_type": "execute_result"
        }
      ],
      "source": [
        "string_col = ['Topics', 'Sub_Topic', 'Project_Type']\n",
        "\n",
        "# Transform columns from string into integer\n",
        "\n",
        "for col in string_col:\n",
        "  df[col] = df[col].astype('category').cat.codes\n",
        "\n",
        "df.head()"
      ]
    },
    {
      "cell_type": "code",
      "execution_count": 6,
      "metadata": {
        "colab": {
          "base_uri": "https://localhost:8080/",
          "height": 310
        },
        "id": "OQ3Rhohqo5lk",
        "outputId": "53dbed7e-ec57-48bf-a88e-53ad29a2e6e5"
      },
      "outputs": [
        {
          "name": "stdout",
          "output_type": "stream",
          "text": [
            "Project_Type    category\n",
            "Topics          category\n",
            "Sub_Topic       category\n",
            "Difficulty         int64\n",
            "Workers           object\n",
            "dtype: object\n"
          ]
        },
        {
          "data": {
            "text/html": [
              "\n",
              "  <div id=\"df-e7ca817a-6418-4ffe-b308-81e7ce47d895\">\n",
              "    <div class=\"colab-df-container\">\n",
              "      <div>\n",
              "<style scoped>\n",
              "    .dataframe tbody tr th:only-of-type {\n",
              "        vertical-align: middle;\n",
              "    }\n",
              "\n",
              "    .dataframe tbody tr th {\n",
              "        vertical-align: top;\n",
              "    }\n",
              "\n",
              "    .dataframe thead th {\n",
              "        text-align: right;\n",
              "    }\n",
              "</style>\n",
              "<table border=\"1\" class=\"dataframe\">\n",
              "  <thead>\n",
              "    <tr style=\"text-align: right;\">\n",
              "      <th></th>\n",
              "      <th>Project_Type</th>\n",
              "      <th>Topics</th>\n",
              "      <th>Sub_Topic</th>\n",
              "      <th>Difficulty</th>\n",
              "      <th>Workers</th>\n",
              "    </tr>\n",
              "  </thead>\n",
              "  <tbody>\n",
              "    <tr>\n",
              "      <th>0</th>\n",
              "      <td>2</td>\n",
              "      <td>7</td>\n",
              "      <td>6</td>\n",
              "      <td>6</td>\n",
              "      <td>[Gabriel Kheisa, Nyoman Satiya Najwa Sadha, Ch...</td>\n",
              "    </tr>\n",
              "    <tr>\n",
              "      <th>1</th>\n",
              "      <td>1</td>\n",
              "      <td>4</td>\n",
              "      <td>1</td>\n",
              "      <td>17</td>\n",
              "      <td>[Andi Rezal Oktavianto, Imam, Abiyyu Diora Haq...</td>\n",
              "    </tr>\n",
              "    <tr>\n",
              "      <th>2</th>\n",
              "      <td>1</td>\n",
              "      <td>4</td>\n",
              "      <td>1</td>\n",
              "      <td>18</td>\n",
              "      <td>[Andi Rezal Oktavianto, Imam, Abiyyu Diora Haq...</td>\n",
              "    </tr>\n",
              "    <tr>\n",
              "      <th>3</th>\n",
              "      <td>2</td>\n",
              "      <td>2</td>\n",
              "      <td>11</td>\n",
              "      <td>16</td>\n",
              "      <td>[Andhika Zulfikri, I Putu Ranantha Nugraha Sup...</td>\n",
              "    </tr>\n",
              "    <tr>\n",
              "      <th>4</th>\n",
              "      <td>0</td>\n",
              "      <td>0</td>\n",
              "      <td>3</td>\n",
              "      <td>15</td>\n",
              "      <td>[Chairul Rizqi, Sandrian Yulianto, Abdullah Nu...</td>\n",
              "    </tr>\n",
              "  </tbody>\n",
              "</table>\n",
              "</div>\n",
              "      <button class=\"colab-df-convert\" onclick=\"convertToInteractive('df-e7ca817a-6418-4ffe-b308-81e7ce47d895')\"\n",
              "              title=\"Convert this dataframe to an interactive table.\"\n",
              "              style=\"display:none;\">\n",
              "        \n",
              "  <svg xmlns=\"http://www.w3.org/2000/svg\" height=\"24px\"viewBox=\"0 0 24 24\"\n",
              "       width=\"24px\">\n",
              "    <path d=\"M0 0h24v24H0V0z\" fill=\"none\"/>\n",
              "    <path d=\"M18.56 5.44l.94 2.06.94-2.06 2.06-.94-2.06-.94-.94-2.06-.94 2.06-2.06.94zm-11 1L8.5 8.5l.94-2.06 2.06-.94-2.06-.94L8.5 2.5l-.94 2.06-2.06.94zm10 10l.94 2.06.94-2.06 2.06-.94-2.06-.94-.94-2.06-.94 2.06-2.06.94z\"/><path d=\"M17.41 7.96l-1.37-1.37c-.4-.4-.92-.59-1.43-.59-.52 0-1.04.2-1.43.59L10.3 9.45l-7.72 7.72c-.78.78-.78 2.05 0 2.83L4 21.41c.39.39.9.59 1.41.59.51 0 1.02-.2 1.41-.59l7.78-7.78 2.81-2.81c.8-.78.8-2.07 0-2.86zM5.41 20L4 18.59l7.72-7.72 1.47 1.35L5.41 20z\"/>\n",
              "  </svg>\n",
              "      </button>\n",
              "      \n",
              "  <style>\n",
              "    .colab-df-container {\n",
              "      display:flex;\n",
              "      flex-wrap:wrap;\n",
              "      gap: 12px;\n",
              "    }\n",
              "\n",
              "    .colab-df-convert {\n",
              "      background-color: #E8F0FE;\n",
              "      border: none;\n",
              "      border-radius: 50%;\n",
              "      cursor: pointer;\n",
              "      display: none;\n",
              "      fill: #1967D2;\n",
              "      height: 32px;\n",
              "      padding: 0 0 0 0;\n",
              "      width: 32px;\n",
              "    }\n",
              "\n",
              "    .colab-df-convert:hover {\n",
              "      background-color: #E2EBFA;\n",
              "      box-shadow: 0px 1px 2px rgba(60, 64, 67, 0.3), 0px 1px 3px 1px rgba(60, 64, 67, 0.15);\n",
              "      fill: #174EA6;\n",
              "    }\n",
              "\n",
              "    [theme=dark] .colab-df-convert {\n",
              "      background-color: #3B4455;\n",
              "      fill: #D2E3FC;\n",
              "    }\n",
              "\n",
              "    [theme=dark] .colab-df-convert:hover {\n",
              "      background-color: #434B5C;\n",
              "      box-shadow: 0px 1px 3px 1px rgba(0, 0, 0, 0.15);\n",
              "      filter: drop-shadow(0px 1px 2px rgba(0, 0, 0, 0.3));\n",
              "      fill: #FFFFFF;\n",
              "    }\n",
              "  </style>\n",
              "\n",
              "      <script>\n",
              "        const buttonEl =\n",
              "          document.querySelector('#df-e7ca817a-6418-4ffe-b308-81e7ce47d895 button.colab-df-convert');\n",
              "        buttonEl.style.display =\n",
              "          google.colab.kernel.accessAllowed ? 'block' : 'none';\n",
              "\n",
              "        async function convertToInteractive(key) {\n",
              "          const element = document.querySelector('#df-e7ca817a-6418-4ffe-b308-81e7ce47d895');\n",
              "          const dataTable =\n",
              "            await google.colab.kernel.invokeFunction('convertToInteractive',\n",
              "                                                     [key], {});\n",
              "          if (!dataTable) return;\n",
              "\n",
              "          const docLinkHtml = 'Like what you see? Visit the ' +\n",
              "            '<a target=\"_blank\" href=https://colab.research.google.com/notebooks/data_table.ipynb>data table notebook</a>'\n",
              "            + ' to learn more about interactive tables.';\n",
              "          element.innerHTML = '';\n",
              "          dataTable['output_type'] = 'display_data';\n",
              "          await google.colab.output.renderOutput(dataTable, element);\n",
              "          const docLink = document.createElement('div');\n",
              "          docLink.innerHTML = docLinkHtml;\n",
              "          element.appendChild(docLink);\n",
              "        }\n",
              "      </script>\n",
              "    </div>\n",
              "  </div>\n",
              "  "
            ],
            "text/plain": [
              "  Project_Type Topics Sub_Topic  Difficulty  \\\n",
              "0            2      7         6           6   \n",
              "1            1      4         1          17   \n",
              "2            1      4         1          18   \n",
              "3            2      2        11          16   \n",
              "4            0      0         3          15   \n",
              "\n",
              "                                             Workers  \n",
              "0  [Gabriel Kheisa, Nyoman Satiya Najwa Sadha, Ch...  \n",
              "1  [Andi Rezal Oktavianto, Imam, Abiyyu Diora Haq...  \n",
              "2  [Andi Rezal Oktavianto, Imam, Abiyyu Diora Haq...  \n",
              "3  [Andhika Zulfikri, I Putu Ranantha Nugraha Sup...  \n",
              "4  [Chairul Rizqi, Sandrian Yulianto, Abdullah Nu...  "
            ]
          },
          "execution_count": 6,
          "metadata": {},
          "output_type": "execute_result"
        }
      ],
      "source": [
        "# Transform other columns into strings\n",
        "\n",
        "for col in string_col:\n",
        "  df[col] = df[col].astype('category')\n",
        "\n",
        "print(df.dtypes)\n",
        "df.head()"
      ]
    },
    {
      "cell_type": "code",
      "execution_count": 7,
      "metadata": {
        "colab": {
          "base_uri": "https://localhost:8080/"
        },
        "id": "0oXCS-Sso9X1",
        "outputId": "81ab92e9-78d8-4ab3-c032-4dc2c0cded80"
      },
      "outputs": [
        {
          "name": "stdout",
          "output_type": "stream",
          "text": [
            "0. Abdullah Nur Hudi\n",
            "1. Abiyyu Diora Haqi\n",
            "2. Alvin Tan\n",
            "3. Andhika Zulfikri\n",
            "4. Andi Rezal Oktavianto\n",
            "5. Azis Sofyanto\n",
            "6. Bagja Kurniadi\n",
            "7. Chairul Rizqi\n",
            "8. Christopher Kristianto\n",
            "9. Farel Eden\n",
            "10. Gabriel Kheisa\n",
            "11. I Putu Ranantha Nugraha Suparta\n",
            "12. Iga Narendra Pramawijaya\n",
            "13. Imam\n",
            "14. Muhammad Raden Syawali Akbar\n",
            "15. Nyoman Satiya Najwa Sadha\n",
            "16. Putu Gede Agung Karna Sampalan\n",
            "17. Rikip Ginanjar\n",
            "18. Sandrian Yulianto\n",
            "19. Sarah Sema Khairunisa\n",
            "20. Suci Rahmadani\n",
            "21. Vania Kylie\n",
            "22. Wahyu Fauzan\n"
          ]
        }
      ],
      "source": [
        "# Creating list of labels\n",
        "labels_list = df['Workers']\n",
        "labels_list = list(labels_list)\n",
        "mlb = MultiLabelBinarizer()\n",
        "mlb.fit(labels_list)\n",
        "\n",
        "N_LABELS = len(mlb.classes_)\n",
        "for (i, label) in enumerate(mlb.classes_):\n",
        "    print(\"{}. {}\".format(i, label))"
      ]
    },
    {
      "cell_type": "code",
      "execution_count": 8,
      "metadata": {
        "colab": {
          "base_uri": "https://localhost:8080/",
          "height": 423
        },
        "id": "SBD3iFFkVLVy",
        "outputId": "4ed340c7-76db-42bc-dff6-ce52ac7637d2"
      },
      "outputs": [
        {
          "data": {
            "text/html": [
              "\n",
              "  <div id=\"df-1635cfe4-e154-4d08-a67c-77ead2115625\">\n",
              "    <div class=\"colab-df-container\">\n",
              "      <div>\n",
              "<style scoped>\n",
              "    .dataframe tbody tr th:only-of-type {\n",
              "        vertical-align: middle;\n",
              "    }\n",
              "\n",
              "    .dataframe tbody tr th {\n",
              "        vertical-align: top;\n",
              "    }\n",
              "\n",
              "    .dataframe thead th {\n",
              "        text-align: right;\n",
              "    }\n",
              "</style>\n",
              "<table border=\"1\" class=\"dataframe\">\n",
              "  <thead>\n",
              "    <tr style=\"text-align: right;\">\n",
              "      <th></th>\n",
              "      <th>Project_Type</th>\n",
              "      <th>Topics</th>\n",
              "      <th>Sub_Topic</th>\n",
              "      <th>Difficulty</th>\n",
              "      <th>Workers</th>\n",
              "    </tr>\n",
              "  </thead>\n",
              "  <tbody>\n",
              "    <tr>\n",
              "      <th>0</th>\n",
              "      <td>2</td>\n",
              "      <td>7</td>\n",
              "      <td>6</td>\n",
              "      <td>6</td>\n",
              "      <td>[Gabriel Kheisa, Nyoman Satiya Najwa Sadha, Ch...</td>\n",
              "    </tr>\n",
              "    <tr>\n",
              "      <th>1</th>\n",
              "      <td>1</td>\n",
              "      <td>4</td>\n",
              "      <td>1</td>\n",
              "      <td>17</td>\n",
              "      <td>[Andi Rezal Oktavianto, Imam, Abiyyu Diora Haq...</td>\n",
              "    </tr>\n",
              "    <tr>\n",
              "      <th>2</th>\n",
              "      <td>1</td>\n",
              "      <td>4</td>\n",
              "      <td>1</td>\n",
              "      <td>18</td>\n",
              "      <td>[Andi Rezal Oktavianto, Imam, Abiyyu Diora Haq...</td>\n",
              "    </tr>\n",
              "    <tr>\n",
              "      <th>3</th>\n",
              "      <td>2</td>\n",
              "      <td>2</td>\n",
              "      <td>11</td>\n",
              "      <td>16</td>\n",
              "      <td>[Andhika Zulfikri, I Putu Ranantha Nugraha Sup...</td>\n",
              "    </tr>\n",
              "    <tr>\n",
              "      <th>4</th>\n",
              "      <td>0</td>\n",
              "      <td>0</td>\n",
              "      <td>3</td>\n",
              "      <td>15</td>\n",
              "      <td>[Chairul Rizqi, Sandrian Yulianto, Abdullah Nu...</td>\n",
              "    </tr>\n",
              "    <tr>\n",
              "      <th>...</th>\n",
              "      <td>...</td>\n",
              "      <td>...</td>\n",
              "      <td>...</td>\n",
              "      <td>...</td>\n",
              "      <td>...</td>\n",
              "    </tr>\n",
              "    <tr>\n",
              "      <th>49995</th>\n",
              "      <td>0</td>\n",
              "      <td>0</td>\n",
              "      <td>5</td>\n",
              "      <td>10</td>\n",
              "      <td>[Abdullah Nur Hudi, Vania Kylie, Wahyu Fauzan,...</td>\n",
              "    </tr>\n",
              "    <tr>\n",
              "      <th>49996</th>\n",
              "      <td>0</td>\n",
              "      <td>0</td>\n",
              "      <td>5</td>\n",
              "      <td>20</td>\n",
              "      <td>[Abdullah Nur Hudi, Vania Kylie, Wahyu Fauzan,...</td>\n",
              "    </tr>\n",
              "    <tr>\n",
              "      <th>49997</th>\n",
              "      <td>2</td>\n",
              "      <td>7</td>\n",
              "      <td>6</td>\n",
              "      <td>19</td>\n",
              "      <td>[Gabriel Kheisa, Rikip Ginanjar, Nyoman Satiya...</td>\n",
              "    </tr>\n",
              "    <tr>\n",
              "      <th>49998</th>\n",
              "      <td>0</td>\n",
              "      <td>0</td>\n",
              "      <td>3</td>\n",
              "      <td>15</td>\n",
              "      <td>[Chairul Rizqi, Sandrian Yulianto, Abdullah Nu...</td>\n",
              "    </tr>\n",
              "    <tr>\n",
              "      <th>49999</th>\n",
              "      <td>2</td>\n",
              "      <td>2</td>\n",
              "      <td>11</td>\n",
              "      <td>18</td>\n",
              "      <td>[Andhika Zulfikri, Sarah Sema Khairunisa, Riki...</td>\n",
              "    </tr>\n",
              "  </tbody>\n",
              "</table>\n",
              "<p>50000 rows × 5 columns</p>\n",
              "</div>\n",
              "      <button class=\"colab-df-convert\" onclick=\"convertToInteractive('df-1635cfe4-e154-4d08-a67c-77ead2115625')\"\n",
              "              title=\"Convert this dataframe to an interactive table.\"\n",
              "              style=\"display:none;\">\n",
              "        \n",
              "  <svg xmlns=\"http://www.w3.org/2000/svg\" height=\"24px\"viewBox=\"0 0 24 24\"\n",
              "       width=\"24px\">\n",
              "    <path d=\"M0 0h24v24H0V0z\" fill=\"none\"/>\n",
              "    <path d=\"M18.56 5.44l.94 2.06.94-2.06 2.06-.94-2.06-.94-.94-2.06-.94 2.06-2.06.94zm-11 1L8.5 8.5l.94-2.06 2.06-.94-2.06-.94L8.5 2.5l-.94 2.06-2.06.94zm10 10l.94 2.06.94-2.06 2.06-.94-2.06-.94-.94-2.06-.94 2.06-2.06.94z\"/><path d=\"M17.41 7.96l-1.37-1.37c-.4-.4-.92-.59-1.43-.59-.52 0-1.04.2-1.43.59L10.3 9.45l-7.72 7.72c-.78.78-.78 2.05 0 2.83L4 21.41c.39.39.9.59 1.41.59.51 0 1.02-.2 1.41-.59l7.78-7.78 2.81-2.81c.8-.78.8-2.07 0-2.86zM5.41 20L4 18.59l7.72-7.72 1.47 1.35L5.41 20z\"/>\n",
              "  </svg>\n",
              "      </button>\n",
              "      \n",
              "  <style>\n",
              "    .colab-df-container {\n",
              "      display:flex;\n",
              "      flex-wrap:wrap;\n",
              "      gap: 12px;\n",
              "    }\n",
              "\n",
              "    .colab-df-convert {\n",
              "      background-color: #E8F0FE;\n",
              "      border: none;\n",
              "      border-radius: 50%;\n",
              "      cursor: pointer;\n",
              "      display: none;\n",
              "      fill: #1967D2;\n",
              "      height: 32px;\n",
              "      padding: 0 0 0 0;\n",
              "      width: 32px;\n",
              "    }\n",
              "\n",
              "    .colab-df-convert:hover {\n",
              "      background-color: #E2EBFA;\n",
              "      box-shadow: 0px 1px 2px rgba(60, 64, 67, 0.3), 0px 1px 3px 1px rgba(60, 64, 67, 0.15);\n",
              "      fill: #174EA6;\n",
              "    }\n",
              "\n",
              "    [theme=dark] .colab-df-convert {\n",
              "      background-color: #3B4455;\n",
              "      fill: #D2E3FC;\n",
              "    }\n",
              "\n",
              "    [theme=dark] .colab-df-convert:hover {\n",
              "      background-color: #434B5C;\n",
              "      box-shadow: 0px 1px 3px 1px rgba(0, 0, 0, 0.15);\n",
              "      filter: drop-shadow(0px 1px 2px rgba(0, 0, 0, 0.3));\n",
              "      fill: #FFFFFF;\n",
              "    }\n",
              "  </style>\n",
              "\n",
              "      <script>\n",
              "        const buttonEl =\n",
              "          document.querySelector('#df-1635cfe4-e154-4d08-a67c-77ead2115625 button.colab-df-convert');\n",
              "        buttonEl.style.display =\n",
              "          google.colab.kernel.accessAllowed ? 'block' : 'none';\n",
              "\n",
              "        async function convertToInteractive(key) {\n",
              "          const element = document.querySelector('#df-1635cfe4-e154-4d08-a67c-77ead2115625');\n",
              "          const dataTable =\n",
              "            await google.colab.kernel.invokeFunction('convertToInteractive',\n",
              "                                                     [key], {});\n",
              "          if (!dataTable) return;\n",
              "\n",
              "          const docLinkHtml = 'Like what you see? Visit the ' +\n",
              "            '<a target=\"_blank\" href=https://colab.research.google.com/notebooks/data_table.ipynb>data table notebook</a>'\n",
              "            + ' to learn more about interactive tables.';\n",
              "          element.innerHTML = '';\n",
              "          dataTable['output_type'] = 'display_data';\n",
              "          await google.colab.output.renderOutput(dataTable, element);\n",
              "          const docLink = document.createElement('div');\n",
              "          docLink.innerHTML = docLinkHtml;\n",
              "          element.appendChild(docLink);\n",
              "        }\n",
              "      </script>\n",
              "    </div>\n",
              "  </div>\n",
              "  "
            ],
            "text/plain": [
              "      Project_Type Topics Sub_Topic  Difficulty  \\\n",
              "0                2      7         6           6   \n",
              "1                1      4         1          17   \n",
              "2                1      4         1          18   \n",
              "3                2      2        11          16   \n",
              "4                0      0         3          15   \n",
              "...            ...    ...       ...         ...   \n",
              "49995            0      0         5          10   \n",
              "49996            0      0         5          20   \n",
              "49997            2      7         6          19   \n",
              "49998            0      0         3          15   \n",
              "49999            2      2        11          18   \n",
              "\n",
              "                                                 Workers  \n",
              "0      [Gabriel Kheisa, Nyoman Satiya Najwa Sadha, Ch...  \n",
              "1      [Andi Rezal Oktavianto, Imam, Abiyyu Diora Haq...  \n",
              "2      [Andi Rezal Oktavianto, Imam, Abiyyu Diora Haq...  \n",
              "3      [Andhika Zulfikri, I Putu Ranantha Nugraha Sup...  \n",
              "4      [Chairul Rizqi, Sandrian Yulianto, Abdullah Nu...  \n",
              "...                                                  ...  \n",
              "49995  [Abdullah Nur Hudi, Vania Kylie, Wahyu Fauzan,...  \n",
              "49996  [Abdullah Nur Hudi, Vania Kylie, Wahyu Fauzan,...  \n",
              "49997  [Gabriel Kheisa, Rikip Ginanjar, Nyoman Satiya...  \n",
              "49998  [Chairul Rizqi, Sandrian Yulianto, Abdullah Nu...  \n",
              "49999  [Andhika Zulfikri, Sarah Sema Khairunisa, Riki...  \n",
              "\n",
              "[50000 rows x 5 columns]"
            ]
          },
          "execution_count": 8,
          "metadata": {},
          "output_type": "execute_result"
        }
      ],
      "source": [
        "testpredict = df.copy()\n",
        "testpredict"
      ]
    },
    {
      "cell_type": "code",
      "execution_count": 9,
      "metadata": {
        "colab": {
          "base_uri": "https://localhost:8080/",
          "height": 269
        },
        "id": "EzMZ9H-tZ1_o",
        "outputId": "8526dca6-ae43-40c1-a894-bd55cc801f6c"
      },
      "outputs": [
        {
          "data": {
            "text/html": [
              "\n",
              "  <div id=\"df-0826f8c6-c59e-4302-ad1b-06c05165dd11\">\n",
              "    <div class=\"colab-df-container\">\n",
              "      <div>\n",
              "<style scoped>\n",
              "    .dataframe tbody tr th:only-of-type {\n",
              "        vertical-align: middle;\n",
              "    }\n",
              "\n",
              "    .dataframe tbody tr th {\n",
              "        vertical-align: top;\n",
              "    }\n",
              "\n",
              "    .dataframe thead th {\n",
              "        text-align: right;\n",
              "    }\n",
              "</style>\n",
              "<table border=\"1\" class=\"dataframe\">\n",
              "  <thead>\n",
              "    <tr style=\"text-align: right;\">\n",
              "      <th></th>\n",
              "      <th>Project_Type</th>\n",
              "      <th>Topics</th>\n",
              "      <th>Sub_Topic</th>\n",
              "      <th>Difficulty</th>\n",
              "      <th>Workers</th>\n",
              "    </tr>\n",
              "  </thead>\n",
              "  <tbody>\n",
              "    <tr>\n",
              "      <th>40</th>\n",
              "      <td>0</td>\n",
              "      <td>0</td>\n",
              "      <td>10</td>\n",
              "      <td>11</td>\n",
              "      <td>[Sandrian Yulianto, Wahyu Fauzan, Abdullah Nur...</td>\n",
              "    </tr>\n",
              "    <tr>\n",
              "      <th>41</th>\n",
              "      <td>2</td>\n",
              "      <td>3</td>\n",
              "      <td>2</td>\n",
              "      <td>12</td>\n",
              "      <td>[Farel Eden, Andhika Zulfikri, Andhika Zulfikr...</td>\n",
              "    </tr>\n",
              "    <tr>\n",
              "      <th>42</th>\n",
              "      <td>2</td>\n",
              "      <td>5</td>\n",
              "      <td>13</td>\n",
              "      <td>17</td>\n",
              "      <td>[Bagja Kurniadi, Alvin Tan, Sarah Sema Khairun...</td>\n",
              "    </tr>\n",
              "    <tr>\n",
              "      <th>43</th>\n",
              "      <td>0</td>\n",
              "      <td>0</td>\n",
              "      <td>5</td>\n",
              "      <td>19</td>\n",
              "      <td>[Wahyu Fauzan, Abdullah Nur Hudi, Vania Kylie,...</td>\n",
              "    </tr>\n",
              "    <tr>\n",
              "      <th>44</th>\n",
              "      <td>2</td>\n",
              "      <td>5</td>\n",
              "      <td>13</td>\n",
              "      <td>21</td>\n",
              "      <td>[Bagja Kurniadi, Alvin Tan, Sarah Sema Khairun...</td>\n",
              "    </tr>\n",
              "    <tr>\n",
              "      <th>45</th>\n",
              "      <td>2</td>\n",
              "      <td>3</td>\n",
              "      <td>2</td>\n",
              "      <td>14</td>\n",
              "      <td>[Farel Eden, Gabriel Kheisa, Christopher Krist...</td>\n",
              "    </tr>\n",
              "    <tr>\n",
              "      <th>46</th>\n",
              "      <td>1</td>\n",
              "      <td>4</td>\n",
              "      <td>12</td>\n",
              "      <td>9</td>\n",
              "      <td>[Abiyyu Diora Haqi, Iga Narendra Pramawijaya]</td>\n",
              "    </tr>\n",
              "  </tbody>\n",
              "</table>\n",
              "</div>\n",
              "      <button class=\"colab-df-convert\" onclick=\"convertToInteractive('df-0826f8c6-c59e-4302-ad1b-06c05165dd11')\"\n",
              "              title=\"Convert this dataframe to an interactive table.\"\n",
              "              style=\"display:none;\">\n",
              "        \n",
              "  <svg xmlns=\"http://www.w3.org/2000/svg\" height=\"24px\"viewBox=\"0 0 24 24\"\n",
              "       width=\"24px\">\n",
              "    <path d=\"M0 0h24v24H0V0z\" fill=\"none\"/>\n",
              "    <path d=\"M18.56 5.44l.94 2.06.94-2.06 2.06-.94-2.06-.94-.94-2.06-.94 2.06-2.06.94zm-11 1L8.5 8.5l.94-2.06 2.06-.94-2.06-.94L8.5 2.5l-.94 2.06-2.06.94zm10 10l.94 2.06.94-2.06 2.06-.94-2.06-.94-.94-2.06-.94 2.06-2.06.94z\"/><path d=\"M17.41 7.96l-1.37-1.37c-.4-.4-.92-.59-1.43-.59-.52 0-1.04.2-1.43.59L10.3 9.45l-7.72 7.72c-.78.78-.78 2.05 0 2.83L4 21.41c.39.39.9.59 1.41.59.51 0 1.02-.2 1.41-.59l7.78-7.78 2.81-2.81c.8-.78.8-2.07 0-2.86zM5.41 20L4 18.59l7.72-7.72 1.47 1.35L5.41 20z\"/>\n",
              "  </svg>\n",
              "      </button>\n",
              "      \n",
              "  <style>\n",
              "    .colab-df-container {\n",
              "      display:flex;\n",
              "      flex-wrap:wrap;\n",
              "      gap: 12px;\n",
              "    }\n",
              "\n",
              "    .colab-df-convert {\n",
              "      background-color: #E8F0FE;\n",
              "      border: none;\n",
              "      border-radius: 50%;\n",
              "      cursor: pointer;\n",
              "      display: none;\n",
              "      fill: #1967D2;\n",
              "      height: 32px;\n",
              "      padding: 0 0 0 0;\n",
              "      width: 32px;\n",
              "    }\n",
              "\n",
              "    .colab-df-convert:hover {\n",
              "      background-color: #E2EBFA;\n",
              "      box-shadow: 0px 1px 2px rgba(60, 64, 67, 0.3), 0px 1px 3px 1px rgba(60, 64, 67, 0.15);\n",
              "      fill: #174EA6;\n",
              "    }\n",
              "\n",
              "    [theme=dark] .colab-df-convert {\n",
              "      background-color: #3B4455;\n",
              "      fill: #D2E3FC;\n",
              "    }\n",
              "\n",
              "    [theme=dark] .colab-df-convert:hover {\n",
              "      background-color: #434B5C;\n",
              "      box-shadow: 0px 1px 3px 1px rgba(0, 0, 0, 0.15);\n",
              "      filter: drop-shadow(0px 1px 2px rgba(0, 0, 0, 0.3));\n",
              "      fill: #FFFFFF;\n",
              "    }\n",
              "  </style>\n",
              "\n",
              "      <script>\n",
              "        const buttonEl =\n",
              "          document.querySelector('#df-0826f8c6-c59e-4302-ad1b-06c05165dd11 button.colab-df-convert');\n",
              "        buttonEl.style.display =\n",
              "          google.colab.kernel.accessAllowed ? 'block' : 'none';\n",
              "\n",
              "        async function convertToInteractive(key) {\n",
              "          const element = document.querySelector('#df-0826f8c6-c59e-4302-ad1b-06c05165dd11');\n",
              "          const dataTable =\n",
              "            await google.colab.kernel.invokeFunction('convertToInteractive',\n",
              "                                                     [key], {});\n",
              "          if (!dataTable) return;\n",
              "\n",
              "          const docLinkHtml = 'Like what you see? Visit the ' +\n",
              "            '<a target=\"_blank\" href=https://colab.research.google.com/notebooks/data_table.ipynb>data table notebook</a>'\n",
              "            + ' to learn more about interactive tables.';\n",
              "          element.innerHTML = '';\n",
              "          dataTable['output_type'] = 'display_data';\n",
              "          await google.colab.output.renderOutput(dataTable, element);\n",
              "          const docLink = document.createElement('div');\n",
              "          docLink.innerHTML = docLinkHtml;\n",
              "          element.appendChild(docLink);\n",
              "        }\n",
              "      </script>\n",
              "    </div>\n",
              "  </div>\n",
              "  "
            ],
            "text/plain": [
              "   Project_Type Topics Sub_Topic  Difficulty  \\\n",
              "40            0      0        10          11   \n",
              "41            2      3         2          12   \n",
              "42            2      5        13          17   \n",
              "43            0      0         5          19   \n",
              "44            2      5        13          21   \n",
              "45            2      3         2          14   \n",
              "46            1      4        12           9   \n",
              "\n",
              "                                              Workers  \n",
              "40  [Sandrian Yulianto, Wahyu Fauzan, Abdullah Nur...  \n",
              "41  [Farel Eden, Andhika Zulfikri, Andhika Zulfikr...  \n",
              "42  [Bagja Kurniadi, Alvin Tan, Sarah Sema Khairun...  \n",
              "43  [Wahyu Fauzan, Abdullah Nur Hudi, Vania Kylie,...  \n",
              "44  [Bagja Kurniadi, Alvin Tan, Sarah Sema Khairun...  \n",
              "45  [Farel Eden, Gabriel Kheisa, Christopher Krist...  \n",
              "46      [Abiyyu Diora Haqi, Iga Narendra Pramawijaya]  "
            ]
          },
          "execution_count": 9,
          "metadata": {},
          "output_type": "execute_result"
        }
      ],
      "source": [
        "testpredict = testpredict[40:47]\n",
        "testpredict"
      ]
    },
    {
      "cell_type": "code",
      "execution_count": 10,
      "metadata": {
        "id": "MnxOVbKGKi_c"
      },
      "outputs": [],
      "source": [
        "#splitting the data here \n",
        "\n",
        "train, test = train_test_split(df, test_size=0.05)\n",
        "train, val = train_test_split(train, test_size=0.05)"
      ]
    },
    {
      "cell_type": "code",
      "execution_count": 11,
      "metadata": {
        "colab": {
          "base_uri": "https://localhost:8080/"
        },
        "id": "_HLJQF-utUuJ",
        "outputId": "48555f19-1ec7-46db-8c03-eabb516e99fd"
      },
      "outputs": [
        {
          "name": "stdout",
          "output_type": "stream",
          "text": [
            "Number of examples in the train set: 45125\n",
            "Number of examples in the validation set: 2375\n",
            "Number of examples in the test set: 2500\n"
          ]
        }
      ],
      "source": [
        "# checking the size\n",
        "\n",
        "train_size = len(train)\n",
        "val_size = len(val)\n",
        "test_size = len(test)\n",
        "\n",
        "print(\"Number of examples in the train set:\", train_size)\n",
        "print(\"Number of examples in the validation set:\", val_size)\n",
        "print(\"Number of examples in the test set:\", test_size)\n"
      ]
    },
    {
      "cell_type": "code",
      "execution_count": 12,
      "metadata": {
        "id": "RuHUl5abxpG0"
      },
      "outputs": [],
      "source": [
        "# Making the labels\n",
        "\n",
        "train_labels = train.pop('Workers')\n",
        "val_labels = val.pop('Workers')\n",
        "test_labels = test.pop('Workers')\n",
        "testpredict_split_labels = testpredict.pop('Workers')\n",
        "\n",
        "train_labels = list(train_labels)\n",
        "val_labels = list(val_labels)\n",
        "test_labels = list(test_labels)\n",
        "testpredict_labels = list(testpredict_split_labels)\n",
        "\n",
        "\n",
        "train_labels2 = mlb.transform(train_labels)\n",
        "val_labels2 = mlb.transform(val_labels)\n",
        "test_labels2 = mlb.transform(test_labels)\n",
        "testpredict_labels2 = mlb.transform(testpredict_labels)"
      ]
    },
    {
      "cell_type": "code",
      "execution_count": 13,
      "metadata": {
        "id": "bpEqMwZYtRPy"
      },
      "outputs": [],
      "source": [
        "#train_labels2"
      ]
    },
    {
      "cell_type": "code",
      "execution_count": 14,
      "metadata": {
        "id": "_jKtgtxjsjSF"
      },
      "outputs": [],
      "source": [
        "#labels_list"
      ]
    },
    {
      "cell_type": "code",
      "execution_count": 15,
      "metadata": {
        "id": "T2pTZW4WPBa0"
      },
      "outputs": [],
      "source": [
        "# Custom F1Score metric\n",
        "class F1Score(tf.keras.metrics.Metric):\n",
        "    def __init__(self, name='f1_score', **kwargs):\n",
        "        super(F1Score, self).__init__(name=name, **kwargs)\n",
        "        self.precision = tf.keras.metrics.Precision()\n",
        "        self.recall = tf.keras.metrics.Recall()\n",
        "\n",
        "    def update_state(self, y_true, y_pred, sample_weight=None):\n",
        "        self.precision.update_state(y_true, y_pred, sample_weight)\n",
        "        self.recall.update_state(y_true, y_pred, sample_weight)\n",
        "\n",
        "    def result(self):\n",
        "        precision = self.precision.result()\n",
        "        recall = self.recall.result()\n",
        "        f1_score = 2 * ((precision * recall) / (precision + recall + tf.keras.backend.epsilon()))\n",
        "        return f1_score\n",
        "\n",
        "    def reset_states(self):\n",
        "        self.precision.reset_states()\n",
        "        self.recall.reset_states()\n"
      ]
    },
    {
      "cell_type": "code",
      "execution_count": 16,
      "metadata": {
        "id": "s6LiQG_wq7CT"
      },
      "outputs": [],
      "source": [
        "# get the model\n",
        "def get_model(n_inputs, n_outputs):\n",
        "\tmodel = tf.keras.Sequential()\n",
        "\tmodel.add(tf.keras.layers.Dense(1000, input_dim=n_inputs,use_bias=True, kernel_initializer='he_uniform', activation='relu'))\n",
        "\tmodel.add(tf.keras.layers.Dense(23, use_bias=True, activation='sigmoid'))\n",
        "\tmodel.compile(loss='binary_crossentropy', optimizer='adam', metrics='accuracy')\n",
        "\treturn model"
      ]
    },
    {
      "cell_type": "code",
      "execution_count": 17,
      "metadata": {
        "id": "PKff-qwxrO_J"
      },
      "outputs": [],
      "source": [
        "n_inputs, n_outputs = train.shape[1], train_labels2.shape[1]\n",
        "# get model\n",
        "model = get_model(n_inputs, n_outputs)\n"
      ]
    },
    {
      "cell_type": "code",
      "execution_count": 18,
      "metadata": {
        "colab": {
          "base_uri": "https://localhost:8080/"
        },
        "id": "jbpfsPqsttdd",
        "outputId": "7cc53031-8edc-4d80-d379-b4f9b9acff6f"
      },
      "outputs": [
        {
          "name": "stdout",
          "output_type": "stream",
          "text": [
            "Epoch 1/20\n",
            "1411/1411 [==============================] - 10s 6ms/step - loss: 0.2612 - accuracy: 0.1819 - val_loss: 0.2045 - val_accuracy: 0.2720\n",
            "Epoch 2/20\n",
            "1411/1411 [==============================] - 9s 6ms/step - loss: 0.1931 - accuracy: 0.2167 - val_loss: 0.2074 - val_accuracy: 0.3655\n",
            "Epoch 3/20\n",
            "1411/1411 [==============================] - 9s 6ms/step - loss: 0.1816 - accuracy: 0.2223 - val_loss: 0.1792 - val_accuracy: 0.2939\n",
            "Epoch 4/20\n",
            "1411/1411 [==============================] - 7s 5ms/step - loss: 0.1748 - accuracy: 0.2352 - val_loss: 0.1773 - val_accuracy: 0.2484\n",
            "Epoch 5/20\n",
            "1411/1411 [==============================] - 4s 3ms/step - loss: 0.1707 - accuracy: 0.2385 - val_loss: 0.1769 - val_accuracy: 0.2682\n",
            "Epoch 6/20\n",
            "1411/1411 [==============================] - 3s 2ms/step - loss: 0.1665 - accuracy: 0.2551 - val_loss: 0.1708 - val_accuracy: 0.2101\n",
            "Epoch 7/20\n",
            "1411/1411 [==============================] - 3s 2ms/step - loss: 0.1644 - accuracy: 0.2505 - val_loss: 0.1919 - val_accuracy: 0.3528\n",
            "Epoch 8/20\n",
            "1411/1411 [==============================] - 4s 3ms/step - loss: 0.1605 - accuracy: 0.2525 - val_loss: 0.1641 - val_accuracy: 0.1541\n",
            "Epoch 9/20\n",
            "1411/1411 [==============================] - 3s 2ms/step - loss: 0.1587 - accuracy: 0.2607 - val_loss: 0.1690 - val_accuracy: 0.2493\n",
            "Epoch 10/20\n",
            "1411/1411 [==============================] - 3s 2ms/step - loss: 0.1577 - accuracy: 0.2541 - val_loss: 0.1519 - val_accuracy: 0.2080\n",
            "Epoch 11/20\n",
            "1411/1411 [==============================] - 4s 3ms/step - loss: 0.1546 - accuracy: 0.2581 - val_loss: 0.1539 - val_accuracy: 0.2480\n",
            "Epoch 12/20\n",
            "1411/1411 [==============================] - 4s 3ms/step - loss: 0.1524 - accuracy: 0.2491 - val_loss: 0.1532 - val_accuracy: 0.1314\n",
            "Epoch 13/20\n",
            "1411/1411 [==============================] - 3s 2ms/step - loss: 0.1504 - accuracy: 0.2571 - val_loss: 0.1490 - val_accuracy: 0.2021\n",
            "Epoch 14/20\n",
            "1411/1411 [==============================] - 3s 2ms/step - loss: 0.1487 - accuracy: 0.2584 - val_loss: 0.1531 - val_accuracy: 0.2417\n",
            "Epoch 15/20\n",
            "1411/1411 [==============================] - 5s 3ms/step - loss: 0.1463 - accuracy: 0.2669 - val_loss: 0.1456 - val_accuracy: 0.1869\n",
            "Epoch 16/20\n",
            "1411/1411 [==============================] - 3s 2ms/step - loss: 0.1453 - accuracy: 0.2611 - val_loss: 0.1486 - val_accuracy: 0.2922\n",
            "Epoch 17/20\n",
            "1411/1411 [==============================] - 3s 2ms/step - loss: 0.1426 - accuracy: 0.2594 - val_loss: 0.1428 - val_accuracy: 0.4211\n",
            "Epoch 18/20\n",
            "1411/1411 [==============================] - 4s 3ms/step - loss: 0.1415 - accuracy: 0.2573 - val_loss: 0.1388 - val_accuracy: 0.3061\n",
            "Epoch 19/20\n",
            "1411/1411 [==============================] - 4s 3ms/step - loss: 0.1398 - accuracy: 0.2509 - val_loss: 0.1385 - val_accuracy: 0.1979\n",
            "Epoch 20/20\n",
            "1411/1411 [==============================] - 3s 2ms/step - loss: 0.1385 - accuracy: 0.2607 - val_loss: 0.1354 - val_accuracy: 0.1836\n"
          ]
        },
        {
          "data": {
            "text/plain": [
              "<keras.callbacks.History at 0x7fa97e5e6d40>"
            ]
          },
          "execution_count": 18,
          "metadata": {},
          "output_type": "execute_result"
        }
      ],
      "source": [
        "# using val set\n",
        "model.fit(x=train, y=train_labels2, validation_data=(val, val_labels2), epochs=20, verbose=1)"
      ]
    },
    {
      "cell_type": "markdown",
      "metadata": {
        "id": "2ScsoV2tp89y"
      },
      "source": []
    },
    {
      "cell_type": "markdown",
      "metadata": {
        "id": "J82vOjQerd5U"
      },
      "source": [
        "**Added by Seno**"
      ]
    },
    {
      "cell_type": "code",
      "execution_count": 19,
      "metadata": {
        "colab": {
          "base_uri": "https://localhost:8080/"
        },
        "id": "4-Jiejllrdg0",
        "outputId": "c2aad326-21f3-44b0-cc2c-d1da4f6923b3"
      },
      "outputs": [
        {
          "name": "stdout",
          "output_type": "stream",
          "text": [
            "1/1 [==============================] - 0s 31ms/step - loss: 0.1590 - accuracy: 0.2857\n",
            "Accuracy 0.2857142984867096\n"
          ]
        }
      ],
      "source": [
        "# Evaluating the model using the test set\n",
        "loss, accuracy = model.evaluate(x=testpredict, y=testpredict_labels2)\n",
        "print(\"Accuracy\", accuracy)"
      ]
    },
    {
      "cell_type": "code",
      "execution_count": 19,
      "metadata": {
        "id": "-h4g7WD2axNS"
      },
      "outputs": [],
      "source": []
    },
    {
      "cell_type": "code",
      "execution_count": 20,
      "metadata": {
        "id": "UEeEh0AQx1UV"
      },
      "outputs": [],
      "source": [
        "#Get key of a dictionary\n",
        "def get_key(d, val):\n",
        "    return [k for k, v in d.items() if v == val]"
      ]
    },
    {
      "cell_type": "code",
      "execution_count": 20,
      "metadata": {
        "id": "f3PlhRlslfSy"
      },
      "outputs": [],
      "source": []
    },
    {
      "cell_type": "markdown",
      "metadata": {
        "id": "noNvWvmN9Qov"
      },
      "source": [
        "['ML', 'Front End', 'Back End']\n",
        "['Time-series', 'Speech / Audio', 'NLP', 'Data Engineering', 'Computer Vision', 'Classification & Regression']\n",
        "{'Time-series': ['LSTM', 'ARIMA'], 'Speech / Audio': ['Speech Recognition', 'Music Information Retrieval'], 'NLP': ['Topic Modeling', 'Sentiment Analysis'], 'Data Engineering': ['Data Warehousing'], 'Computer Vision': ['Object Detection'], 'Classification & Regression': ['Logistic Regression', 'Linear Regression'], 'Front End': ['React', 'Ember.js', 'Angular'], 'Back End': ['Node.js', 'Express.js', 'Django']}\n"
      ]
    },
    {
      "cell_type": "code",
      "execution_count": 21,
      "metadata": {
        "colab": {
          "base_uri": "https://localhost:8080/",
          "height": 443
        },
        "id": "3nbDT2strwaN",
        "outputId": "de8ae3f5-4964-40d5-c31f-3f4fad23cf35"
      },
      "outputs": [
        {
          "name": "stdout",
          "output_type": "stream",
          "text": [
            "1/1 [==============================] - 0s 93ms/step\n"
          ]
        },
        {
          "data": {
            "text/html": [
              "\n",
              "  <div id=\"df-75655ca3-df39-48aa-bf19-5b32db244691\">\n",
              "    <div class=\"colab-df-container\">\n",
              "      <div>\n",
              "<style scoped>\n",
              "    .dataframe tbody tr th:only-of-type {\n",
              "        vertical-align: middle;\n",
              "    }\n",
              "\n",
              "    .dataframe tbody tr th {\n",
              "        vertical-align: top;\n",
              "    }\n",
              "\n",
              "    .dataframe thead th {\n",
              "        text-align: right;\n",
              "    }\n",
              "</style>\n",
              "<table border=\"1\" class=\"dataframe\">\n",
              "  <thead>\n",
              "    <tr style=\"text-align: right;\">\n",
              "      <th></th>\n",
              "      <th>0</th>\n",
              "    </tr>\n",
              "  </thead>\n",
              "  <tbody>\n",
              "    <tr>\n",
              "      <th>Gabriel Kheisa</th>\n",
              "      <td>90.0</td>\n",
              "    </tr>\n",
              "    <tr>\n",
              "      <th>Rikip Ginanjar</th>\n",
              "      <td>88.0</td>\n",
              "    </tr>\n",
              "    <tr>\n",
              "      <th>Nyoman Satiya Najwa Sadha</th>\n",
              "      <td>75.0</td>\n",
              "    </tr>\n",
              "    <tr>\n",
              "      <th>Farel Eden</th>\n",
              "      <td>49.0</td>\n",
              "    </tr>\n",
              "    <tr>\n",
              "      <th>Bagja Kurniadi</th>\n",
              "      <td>38.0</td>\n",
              "    </tr>\n",
              "    <tr>\n",
              "      <th>Alvin Tan</th>\n",
              "      <td>31.0</td>\n",
              "    </tr>\n",
              "    <tr>\n",
              "      <th>Sarah Sema Khairunisa</th>\n",
              "      <td>22.0</td>\n",
              "    </tr>\n",
              "    <tr>\n",
              "      <th>Andhika Zulfikri</th>\n",
              "      <td>8.0</td>\n",
              "    </tr>\n",
              "    <tr>\n",
              "      <th>Azis Sofyanto</th>\n",
              "      <td>5.0</td>\n",
              "    </tr>\n",
              "    <tr>\n",
              "      <th>Suci Rahmadani</th>\n",
              "      <td>5.0</td>\n",
              "    </tr>\n",
              "    <tr>\n",
              "      <th>I Putu Ranantha Nugraha Suparta</th>\n",
              "      <td>1.0</td>\n",
              "    </tr>\n",
              "    <tr>\n",
              "      <th>Christopher Kristianto</th>\n",
              "      <td>1.0</td>\n",
              "    </tr>\n",
              "  </tbody>\n",
              "</table>\n",
              "</div>\n",
              "      <button class=\"colab-df-convert\" onclick=\"convertToInteractive('df-75655ca3-df39-48aa-bf19-5b32db244691')\"\n",
              "              title=\"Convert this dataframe to an interactive table.\"\n",
              "              style=\"display:none;\">\n",
              "        \n",
              "  <svg xmlns=\"http://www.w3.org/2000/svg\" height=\"24px\"viewBox=\"0 0 24 24\"\n",
              "       width=\"24px\">\n",
              "    <path d=\"M0 0h24v24H0V0z\" fill=\"none\"/>\n",
              "    <path d=\"M18.56 5.44l.94 2.06.94-2.06 2.06-.94-2.06-.94-.94-2.06-.94 2.06-2.06.94zm-11 1L8.5 8.5l.94-2.06 2.06-.94-2.06-.94L8.5 2.5l-.94 2.06-2.06.94zm10 10l.94 2.06.94-2.06 2.06-.94-2.06-.94-.94-2.06-.94 2.06-2.06.94z\"/><path d=\"M17.41 7.96l-1.37-1.37c-.4-.4-.92-.59-1.43-.59-.52 0-1.04.2-1.43.59L10.3 9.45l-7.72 7.72c-.78.78-.78 2.05 0 2.83L4 21.41c.39.39.9.59 1.41.59.51 0 1.02-.2 1.41-.59l7.78-7.78 2.81-2.81c.8-.78.8-2.07 0-2.86zM5.41 20L4 18.59l7.72-7.72 1.47 1.35L5.41 20z\"/>\n",
              "  </svg>\n",
              "      </button>\n",
              "      \n",
              "  <style>\n",
              "    .colab-df-container {\n",
              "      display:flex;\n",
              "      flex-wrap:wrap;\n",
              "      gap: 12px;\n",
              "    }\n",
              "\n",
              "    .colab-df-convert {\n",
              "      background-color: #E8F0FE;\n",
              "      border: none;\n",
              "      border-radius: 50%;\n",
              "      cursor: pointer;\n",
              "      display: none;\n",
              "      fill: #1967D2;\n",
              "      height: 32px;\n",
              "      padding: 0 0 0 0;\n",
              "      width: 32px;\n",
              "    }\n",
              "\n",
              "    .colab-df-convert:hover {\n",
              "      background-color: #E2EBFA;\n",
              "      box-shadow: 0px 1px 2px rgba(60, 64, 67, 0.3), 0px 1px 3px 1px rgba(60, 64, 67, 0.15);\n",
              "      fill: #174EA6;\n",
              "    }\n",
              "\n",
              "    [theme=dark] .colab-df-convert {\n",
              "      background-color: #3B4455;\n",
              "      fill: #D2E3FC;\n",
              "    }\n",
              "\n",
              "    [theme=dark] .colab-df-convert:hover {\n",
              "      background-color: #434B5C;\n",
              "      box-shadow: 0px 1px 3px 1px rgba(0, 0, 0, 0.15);\n",
              "      filter: drop-shadow(0px 1px 2px rgba(0, 0, 0, 0.3));\n",
              "      fill: #FFFFFF;\n",
              "    }\n",
              "  </style>\n",
              "\n",
              "      <script>\n",
              "        const buttonEl =\n",
              "          document.querySelector('#df-75655ca3-df39-48aa-bf19-5b32db244691 button.colab-df-convert');\n",
              "        buttonEl.style.display =\n",
              "          google.colab.kernel.accessAllowed ? 'block' : 'none';\n",
              "\n",
              "        async function convertToInteractive(key) {\n",
              "          const element = document.querySelector('#df-75655ca3-df39-48aa-bf19-5b32db244691');\n",
              "          const dataTable =\n",
              "            await google.colab.kernel.invokeFunction('convertToInteractive',\n",
              "                                                     [key], {});\n",
              "          if (!dataTable) return;\n",
              "\n",
              "          const docLinkHtml = 'Like what you see? Visit the ' +\n",
              "            '<a target=\"_blank\" href=https://colab.research.google.com/notebooks/data_table.ipynb>data table notebook</a>'\n",
              "            + ' to learn more about interactive tables.';\n",
              "          element.innerHTML = '';\n",
              "          dataTable['output_type'] = 'display_data';\n",
              "          await google.colab.output.renderOutput(dataTable, element);\n",
              "          const docLink = document.createElement('div');\n",
              "          docLink.innerHTML = docLinkHtml;\n",
              "          element.appendChild(docLink);\n",
              "        }\n",
              "      </script>\n",
              "    </div>\n",
              "  </div>\n",
              "  "
            ],
            "text/plain": [
              "                                    0\n",
              "Gabriel Kheisa                   90.0\n",
              "Rikip Ginanjar                   88.0\n",
              "Nyoman Satiya Najwa Sadha        75.0\n",
              "Farel Eden                       49.0\n",
              "Bagja Kurniadi                   38.0\n",
              "Alvin Tan                        31.0\n",
              "Sarah Sema Khairunisa            22.0\n",
              "Andhika Zulfikri                  8.0\n",
              "Azis Sofyanto                     5.0\n",
              "Suci Rahmadani                    5.0\n",
              "I Putu Ranantha Nugraha Suparta   1.0\n",
              "Christopher Kristianto            1.0"
            ]
          },
          "execution_count": 21,
          "metadata": {},
          "output_type": "execute_result"
        }
      ],
      "source": [
        "# Testing predictions\n",
        "testype = 'ML' #Input here\n",
        "testopic = 'NLP' #Input here\n",
        "testopicsub = 'Django' #Input here\n",
        "testdif = 10 #Input here\n",
        "\n",
        "testX = [get_key(ptype_dict, testype)[0], get_key(top_dict, testopic)[0],\n",
        "         get_key(subtop_dict, testopicsub)[0], testdif]\n",
        "testX = np.asarray([testX])\n",
        "yhat = model.predict(testX)[0]\n",
        "\n",
        "# Converting the prediction into dataframe\n",
        "predf = pd.DataFrame(yhat, index=mlb.classes_)\n",
        "predf = predf.multiply(100).round(0).sort_values(by=0, ascending=False)\n",
        "predf = predf[predf[0] >= 1]\n",
        "predf"
      ]
    },
    {
      "cell_type": "code",
      "execution_count": 21,
      "metadata": {
        "id": "M6ZlSG0mCryy"
      },
      "outputs": [],
      "source": []
    },
    {
      "cell_type": "code",
      "execution_count": 22,
      "metadata": {
        "colab": {
          "base_uri": "https://localhost:8080/"
        },
        "id": "sXxl0erk2OKX",
        "outputId": "6e198de1-1e6d-4d98-cfec-5f904882c894"
      },
      "outputs": [
        {
          "name": "stdout",
          "output_type": "stream",
          "text": [
            "                                 Prediction\n",
            "Rikip Ginanjar                         88.0\n",
            "Nyoman Satiya Najwa Sadha              75.0\n",
            "Sarah Sema Khairunisa                  22.0\n",
            "Azis Sofyanto                           5.0\n",
            "I Putu Ranantha Nugraha Suparta         1.0\n"
          ]
        }
      ],
      "source": [
        "activetalents = ['Nyoman Satiya Najwa Sadha', 'Rikip Ginanjar', 'I Putu Ranantha Nugraha Suparta', 'Putu Gede Agung Karna Sampalan',\n",
        "                 'Sarah Sema Khairunisa', 'Christopher Kristianto', 'Azis Sofyanto']\n",
        "\n",
        "besteam = predf.filter(items=activetalents, axis=0)\n",
        "besteam = besteam.sort_values(by=0, ascending=False).head(5)\n",
        "besteam = besteam.set_axis(['Prediction'], axis='columns')\n",
        "\n",
        "print(besteam)"
      ]
    },
    {
      "cell_type": "markdown",
      "metadata": {
        "id": "BcFG653DrxCj"
      },
      "source": [
        "*Coret-coretan Daffa*"
      ]
    },
    {
      "cell_type": "code",
      "execution_count": 23,
      "metadata": {
        "colab": {
          "base_uri": "https://localhost:8080/"
        },
        "id": "RUME5x3JcSwY",
        "outputId": "f8a52d87-f41f-4045-e1ea-7c71c54a9c12"
      },
      "outputs": [
        {
          "name": "stderr",
          "output_type": "stream",
          "text": [
            "WARNING:absl:Found untraced functions such as _update_step_xla while saving (showing 1 of 1). These functions will not be directly callable after loading.\n"
          ]
        }
      ],
      "source": [
        "import tensorflow as tf\n",
        "\n",
        "model.save('model')\n",
        "\n",
        "# Load the model\n",
        "model = tf.keras.models.load_model('/content/model', custom_objects= {'f1_score': F1Score()})\n",
        "\n",
        "# Save the model in TensorFlow SavedModel format\n"
      ]
    },
    {
      "cell_type": "code",
      "execution_count": 24,
      "metadata": {
        "id": "yjFaj0sJckZS"
      },
      "outputs": [],
      "source": [
        "model = tf.keras.models.load_model('/content/model')"
      ]
    },
    {
      "cell_type": "code",
      "execution_count": 25,
      "metadata": {
        "id": "hNAddpxRcmmz"
      },
      "outputs": [],
      "source": [
        "model = tf.keras.models.load_model('/content/model')\n",
        "\n",
        "# Compile the model\n",
        "model.compile(\n",
        "    loss='binary_crossentropy',\n",
        "    optimizer='adam',\n",
        "    metrics='accuracy'\n",
        ")"
      ]
    },
    {
      "cell_type": "code",
      "execution_count": 26,
      "metadata": {
        "colab": {
          "base_uri": "https://localhost:8080/"
        },
        "id": "lr-dF5VZc2ch",
        "outputId": "dd75659f-b926-453d-a6d4-61b0b0d62a58"
      },
      "outputs": [
        {
          "name": "stdout",
          "output_type": "stream",
          "text": [
            "1/1 [==============================] - 0s 219ms/step - loss: 0.1590 - accuracy: 0.2857\n"
          ]
        },
        {
          "data": {
            "text/plain": [
              "[0.1590304672718048, 0.2857142984867096]"
            ]
          },
          "execution_count": 26,
          "metadata": {},
          "output_type": "execute_result"
        }
      ],
      "source": [
        "model.evaluate(x=testpredict, y=testpredict_labels2)"
      ]
    },
    {
      "cell_type": "code",
      "execution_count": 27,
      "metadata": {
        "id": "HRNMYMHXe_4f"
      },
      "outputs": [],
      "source": [
        "model.save('model.h5')"
      ]
    },
    {
      "cell_type": "code",
      "execution_count": 28,
      "metadata": {
        "colab": {
          "base_uri": "https://localhost:8080/"
        },
        "id": "XfqzJ4HBurV2",
        "outputId": "4ac19fd9-3749-4514-df0b-220030e83d3b"
      },
      "outputs": [
        {
          "name": "stdout",
          "output_type": "stream",
          "text": [
            "0. Abdullah Nur Hudi\n",
            "1. Abiyyu Diora Haqi\n",
            "2. Alvin Tan\n",
            "3. Andhika Zulfikri\n",
            "4. Andi Rezal Oktavianto\n",
            "5. Azis Sofyanto\n",
            "6. Bagja Kurniadi\n",
            "7. Chairul Rizqi\n",
            "8. Christopher Kristianto\n",
            "9. Farel Eden\n",
            "10. Gabriel Kheisa\n",
            "11. I Putu Ranantha Nugraha Suparta\n",
            "12. Iga Narendra Pramawijaya\n",
            "13. Imam\n",
            "14. Muhammad Raden Syawali Akbar\n",
            "15. Nyoman Satiya Najwa Sadha\n",
            "16. Putu Gede Agung Karna Sampalan\n",
            "17. Rikip Ginanjar\n",
            "18. Sandrian Yulianto\n",
            "19. Sarah Sema Khairunisa\n",
            "20. Suci Rahmadani\n",
            "21. Vania Kylie\n",
            "22. Wahyu Fauzan\n",
            "   Project_Type Topics Sub_Topic  Difficulty\n",
            "0             2      7         6           6\n",
            "2             1      4         1          18\n",
            "3             2      2        11          16\n",
            "4             0      0         3          15\n",
            "5             2      1         7          13\n",
            "7             2      3         2          18\n",
            "8             2      5        13          19\n",
            "10            1      4         1          21 [[0 0 0 0 0 0 0 0 1 0 1 0 0 0 0 1 0 0 0 0 0 0 0]\n",
            " [0 1 0 0 1 0 0 0 0 0 0 0 1 1 1 0 0 0 0 0 0 0 0]\n",
            " [0 0 1 1 0 0 0 0 0 0 0 1 0 0 0 0 1 0 0 0 0 0 0]\n",
            " [1 0 0 0 0 0 0 1 0 0 0 0 0 0 0 0 0 0 1 0 0 1 1]\n",
            " [0 0 0 0 0 1 0 0 0 0 0 1 0 0 0 0 0 0 0 0 1 0 0]\n",
            " [0 0 0 0 0 0 0 0 1 1 1 0 0 0 0 0 0 0 0 1 0 0 0]\n",
            " [0 0 1 0 0 1 1 0 0 0 0 0 0 0 0 0 0 1 0 1 0 0 0]\n",
            " [0 1 0 0 1 0 0 0 0 0 0 0 1 1 1 0 0 0 0 0 0 0 0]]\n"
          ]
        }
      ],
      "source": [
        "strez = df.loc[:10,:]\n",
        "strez = strez.drop(labels=[1,9,6])\n",
        "strez\n",
        "\n",
        "# Creating list of labels\n",
        "labels_list_2 = strez['Workers']\n",
        "labels_list_2 = list(labels_list_2)\n",
        "mlb = MultiLabelBinarizer()\n",
        "mlb.fit(labels_list_2)\n",
        "\n",
        "N_LABELS_2 = len(mlb.classes_)\n",
        "for (i, label) in enumerate(mlb.classes_):\n",
        "    print(\"{}. {}\".format(i, label))\n",
        "\n",
        "# Making the labels\n",
        "\n",
        "labelstrez = strez.pop('Workers')\n",
        "labelstrez_l = list(labelstrez)\n",
        "labelstrezz = mlb.transform(labelstrez_l)\n",
        "\n",
        "print(strez, labelstrezz)"
      ]
    },
    {
      "cell_type": "code",
      "execution_count": 29,
      "metadata": {
        "id": "tFdxhaGLewKY"
      },
      "outputs": [],
      "source": [
        "import tensorflow as tf\n",
        "\n",
        "# Load pre-trained base model\n",
        "base_model = tf.keras.models.load_model('/content/model.h5')\n",
        "\n",
        "# Freeze base model layers\n",
        "for layer in base_model.layers:\n",
        "    layer.trainable = False\n",
        "\n",
        "# Create new model\n",
        "model = tf.keras.Sequential([\n",
        "    base_model,\n",
        "    tf.keras.layers.Flatten(),\n",
        "    tf.keras.layers.Dense(1000, activation='relu'),\n",
        "    tf.keras.layers.Dense(N_LABELS_2, activation='sigmoid')\n",
        "])\n",
        "\n",
        "# Compile the model\n",
        "model.compile(optimizer='adam', loss='binary_crossentropy', metrics=[F1Score()])\n"
      ]
    },
    {
      "cell_type": "code",
      "execution_count": 30,
      "metadata": {
        "colab": {
          "base_uri": "https://localhost:8080/"
        },
        "id": "wj7Xkqsayk2x",
        "outputId": "0a8e2408-a38a-4c2d-fc16-dae6f57ffae8"
      },
      "outputs": [
        {
          "name": "stdout",
          "output_type": "stream",
          "text": [
            "[[0 0 0 0 0 0 0 0 1 0 1 0 0 0 0 1 0 0 0 0 0 0 0]\n",
            " [0 1 0 0 1 0 0 0 0 0 0 0 1 1 1 0 0 0 0 0 0 0 0]\n",
            " [0 0 1 1 0 0 0 0 0 0 0 1 0 0 0 0 1 0 0 0 0 0 0]\n",
            " [1 0 0 0 0 0 0 1 0 0 0 0 0 0 0 0 0 0 1 0 0 1 1]\n",
            " [0 0 0 0 0 1 0 0 0 0 0 1 0 0 0 0 0 0 0 0 1 0 0]\n",
            " [0 0 0 0 0 0 0 0 1 1 1 0 0 0 0 0 0 0 0 1 0 0 0]\n",
            " [0 0 1 0 0 1 1 0 0 0 0 0 0 0 0 0 0 1 0 1 0 0 0]\n",
            " [0 1 0 0 1 0 0 0 0 0 0 0 1 1 1 0 0 0 0 0 0 0 0]]\n"
          ]
        }
      ],
      "source": [
        "print(labelstrezz)"
      ]
    },
    {
      "cell_type": "code",
      "execution_count": 31,
      "metadata": {
        "colab": {
          "base_uri": "https://localhost:8080/"
        },
        "id": "k7MazqTlgfzQ",
        "outputId": "e4f871b6-291e-4d47-99b0-ba1766498a67"
      },
      "outputs": [
        {
          "name": "stdout",
          "output_type": "stream",
          "text": [
            "Epoch 1/20\n",
            "1/1 [==============================] - 1s 950ms/step - loss: 0.6964 - f1_score: 0.2687\n",
            "Epoch 2/20\n",
            "1/1 [==============================] - 0s 14ms/step - loss: 0.6761 - f1_score: 0.3678\n",
            "Epoch 3/20\n",
            "1/1 [==============================] - 0s 20ms/step - loss: 0.6565 - f1_score: 0.4918\n",
            "Epoch 4/20\n",
            "1/1 [==============================] - 0s 17ms/step - loss: 0.6375 - f1_score: 0.4681\n",
            "Epoch 5/20\n",
            "1/1 [==============================] - 0s 14ms/step - loss: 0.6188 - f1_score: 0.5714\n",
            "Epoch 6/20\n",
            "1/1 [==============================] - 0s 16ms/step - loss: 0.6003 - f1_score: 0.6122\n",
            "Epoch 7/20\n",
            "1/1 [==============================] - 0s 16ms/step - loss: 0.5820 - f1_score: 0.6122\n",
            "Epoch 8/20\n",
            "1/1 [==============================] - 0s 17ms/step - loss: 0.5637 - f1_score: 0.6122\n",
            "Epoch 9/20\n",
            "1/1 [==============================] - 0s 18ms/step - loss: 0.5455 - f1_score: 0.5833\n",
            "Epoch 10/20\n",
            "1/1 [==============================] - 0s 20ms/step - loss: 0.5273 - f1_score: 0.5833\n",
            "Epoch 11/20\n"
          ]
        },
        {
          "name": "stderr",
          "output_type": "stream",
          "text": [
            "/usr/local/lib/python3.10/dist-packages/keras/engine/training.py:2448: UserWarning: Metric F1Score implements a `reset_states()` method; rename it to `reset_state()` (without the final \"s\"). The name `reset_states()` has been deprecated to improve API consistency.\n",
            "  m.reset_state()\n"
          ]
        },
        {
          "name": "stdout",
          "output_type": "stream",
          "text": [
            "1/1 [==============================] - 0s 21ms/step - loss: 0.5092 - f1_score: 0.5833\n",
            "Epoch 12/20\n",
            "1/1 [==============================] - 0s 17ms/step - loss: 0.4911 - f1_score: 0.5833\n",
            "Epoch 13/20\n",
            "1/1 [==============================] - 0s 17ms/step - loss: 0.4732 - f1_score: 0.5833\n",
            "Epoch 14/20\n",
            "1/1 [==============================] - 0s 16ms/step - loss: 0.4555 - f1_score: 0.5532\n",
            "Epoch 15/20\n",
            "1/1 [==============================] - 0s 15ms/step - loss: 0.4382 - f1_score: 0.5532\n",
            "Epoch 16/20\n",
            "1/1 [==============================] - 0s 15ms/step - loss: 0.4214 - f1_score: 0.5532\n",
            "Epoch 17/20\n",
            "1/1 [==============================] - 0s 16ms/step - loss: 0.4050 - f1_score: 0.5532\n",
            "Epoch 18/20\n",
            "1/1 [==============================] - 0s 15ms/step - loss: 0.3893 - f1_score: 0.5532\n",
            "Epoch 19/20\n",
            "1/1 [==============================] - 0s 15ms/step - loss: 0.3742 - f1_score: 0.5532\n",
            "Epoch 20/20\n",
            "1/1 [==============================] - 0s 13ms/step - loss: 0.3600 - f1_score: 0.5532\n"
          ]
        },
        {
          "data": {
            "text/plain": [
              "<keras.callbacks.History at 0x7fa975eb9f00>"
            ]
          },
          "execution_count": 31,
          "metadata": {},
          "output_type": "execute_result"
        }
      ],
      "source": [
        "model.fit(x=strez, y=labelstrezz, epochs=20)"
      ]
    },
    {
      "cell_type": "code",
      "execution_count": 32,
      "metadata": {
        "colab": {
          "base_uri": "https://localhost:8080/"
        },
        "id": "3UA8p6bwhk4Q",
        "outputId": "b5d3d7ca-73be-4a90-cf4e-067b9f6087e6"
      },
      "outputs": [
        {
          "name": "stdout",
          "output_type": "stream",
          "text": [
            "1/1 [==============================] - 0s 70ms/step\n",
            "[0.21779197 0.28761163 0.32819885 0.26344538 0.2869926  0.30234674\n",
            " 0.25467244 0.22431633 0.4192899  0.24999294 0.40900952 0.28971618\n",
            " 0.2789164  0.28195295 0.28228068 0.28995228 0.22556609 0.26270542\n",
            " 0.2502333  0.33679724 0.27731735 0.2399235  0.23821403]\n"
          ]
        }
      ],
      "source": [
        "newX = np.asarray(strez)\n",
        "yhat = model.predict(newX)\n",
        "print(yhat[0])\n",
        "\n",
        "#newX = np.asarray(df[:10])\n",
        "#yhat = model.predict(newX)\n",
        "\n",
        "#print(yhat)"
      ]
    },
    {
      "cell_type": "code",
      "execution_count": 33,
      "metadata": {
        "colab": {
          "base_uri": "https://localhost:8080/",
          "height": 300
        },
        "id": "fAi5vozewhl5",
        "outputId": "8b478f63-70a1-4a67-c7ca-132e7e759af3"
      },
      "outputs": [
        {
          "data": {
            "text/html": [
              "\n",
              "  <div id=\"df-72366807-7616-449f-9695-b84db447a972\">\n",
              "    <div class=\"colab-df-container\">\n",
              "      <div>\n",
              "<style scoped>\n",
              "    .dataframe tbody tr th:only-of-type {\n",
              "        vertical-align: middle;\n",
              "    }\n",
              "\n",
              "    .dataframe tbody tr th {\n",
              "        vertical-align: top;\n",
              "    }\n",
              "\n",
              "    .dataframe thead th {\n",
              "        text-align: right;\n",
              "    }\n",
              "</style>\n",
              "<table border=\"1\" class=\"dataframe\">\n",
              "  <thead>\n",
              "    <tr style=\"text-align: right;\">\n",
              "      <th></th>\n",
              "      <th>Project_Type</th>\n",
              "      <th>Topics</th>\n",
              "      <th>Sub_Topic</th>\n",
              "      <th>Difficulty</th>\n",
              "      <th>Workers</th>\n",
              "    </tr>\n",
              "  </thead>\n",
              "  <tbody>\n",
              "    <tr>\n",
              "      <th>0</th>\n",
              "      <td>2</td>\n",
              "      <td>7</td>\n",
              "      <td>6</td>\n",
              "      <td>6</td>\n",
              "      <td>[Gabriel Kheisa, Nyoman Satiya Najwa Sadha, Ch...</td>\n",
              "    </tr>\n",
              "    <tr>\n",
              "      <th>2</th>\n",
              "      <td>1</td>\n",
              "      <td>4</td>\n",
              "      <td>1</td>\n",
              "      <td>18</td>\n",
              "      <td>[Andi Rezal Oktavianto, Imam, Abiyyu Diora Haq...</td>\n",
              "    </tr>\n",
              "    <tr>\n",
              "      <th>3</th>\n",
              "      <td>2</td>\n",
              "      <td>2</td>\n",
              "      <td>11</td>\n",
              "      <td>16</td>\n",
              "      <td>[Andhika Zulfikri, I Putu Ranantha Nugraha Sup...</td>\n",
              "    </tr>\n",
              "    <tr>\n",
              "      <th>4</th>\n",
              "      <td>0</td>\n",
              "      <td>0</td>\n",
              "      <td>3</td>\n",
              "      <td>15</td>\n",
              "      <td>[Chairul Rizqi, Sandrian Yulianto, Abdullah Nu...</td>\n",
              "    </tr>\n",
              "    <tr>\n",
              "      <th>5</th>\n",
              "      <td>2</td>\n",
              "      <td>1</td>\n",
              "      <td>7</td>\n",
              "      <td>13</td>\n",
              "      <td>[Azis Sofyanto, Suci Rahmadani, I Putu Rananth...</td>\n",
              "    </tr>\n",
              "    <tr>\n",
              "      <th>7</th>\n",
              "      <td>2</td>\n",
              "      <td>3</td>\n",
              "      <td>2</td>\n",
              "      <td>18</td>\n",
              "      <td>[Farel Eden, Christopher Kristianto, Christoph...</td>\n",
              "    </tr>\n",
              "    <tr>\n",
              "      <th>8</th>\n",
              "      <td>2</td>\n",
              "      <td>5</td>\n",
              "      <td>13</td>\n",
              "      <td>19</td>\n",
              "      <td>[Alvin Tan, Bagja Kurniadi, Sarah Sema Khairun...</td>\n",
              "    </tr>\n",
              "    <tr>\n",
              "      <th>10</th>\n",
              "      <td>1</td>\n",
              "      <td>4</td>\n",
              "      <td>1</td>\n",
              "      <td>21</td>\n",
              "      <td>[Andi Rezal Oktavianto, Imam, Abiyyu Diora Haq...</td>\n",
              "    </tr>\n",
              "  </tbody>\n",
              "</table>\n",
              "</div>\n",
              "      <button class=\"colab-df-convert\" onclick=\"convertToInteractive('df-72366807-7616-449f-9695-b84db447a972')\"\n",
              "              title=\"Convert this dataframe to an interactive table.\"\n",
              "              style=\"display:none;\">\n",
              "        \n",
              "  <svg xmlns=\"http://www.w3.org/2000/svg\" height=\"24px\"viewBox=\"0 0 24 24\"\n",
              "       width=\"24px\">\n",
              "    <path d=\"M0 0h24v24H0V0z\" fill=\"none\"/>\n",
              "    <path d=\"M18.56 5.44l.94 2.06.94-2.06 2.06-.94-2.06-.94-.94-2.06-.94 2.06-2.06.94zm-11 1L8.5 8.5l.94-2.06 2.06-.94-2.06-.94L8.5 2.5l-.94 2.06-2.06.94zm10 10l.94 2.06.94-2.06 2.06-.94-2.06-.94-.94-2.06-.94 2.06-2.06.94z\"/><path d=\"M17.41 7.96l-1.37-1.37c-.4-.4-.92-.59-1.43-.59-.52 0-1.04.2-1.43.59L10.3 9.45l-7.72 7.72c-.78.78-.78 2.05 0 2.83L4 21.41c.39.39.9.59 1.41.59.51 0 1.02-.2 1.41-.59l7.78-7.78 2.81-2.81c.8-.78.8-2.07 0-2.86zM5.41 20L4 18.59l7.72-7.72 1.47 1.35L5.41 20z\"/>\n",
              "  </svg>\n",
              "      </button>\n",
              "      \n",
              "  <style>\n",
              "    .colab-df-container {\n",
              "      display:flex;\n",
              "      flex-wrap:wrap;\n",
              "      gap: 12px;\n",
              "    }\n",
              "\n",
              "    .colab-df-convert {\n",
              "      background-color: #E8F0FE;\n",
              "      border: none;\n",
              "      border-radius: 50%;\n",
              "      cursor: pointer;\n",
              "      display: none;\n",
              "      fill: #1967D2;\n",
              "      height: 32px;\n",
              "      padding: 0 0 0 0;\n",
              "      width: 32px;\n",
              "    }\n",
              "\n",
              "    .colab-df-convert:hover {\n",
              "      background-color: #E2EBFA;\n",
              "      box-shadow: 0px 1px 2px rgba(60, 64, 67, 0.3), 0px 1px 3px 1px rgba(60, 64, 67, 0.15);\n",
              "      fill: #174EA6;\n",
              "    }\n",
              "\n",
              "    [theme=dark] .colab-df-convert {\n",
              "      background-color: #3B4455;\n",
              "      fill: #D2E3FC;\n",
              "    }\n",
              "\n",
              "    [theme=dark] .colab-df-convert:hover {\n",
              "      background-color: #434B5C;\n",
              "      box-shadow: 0px 1px 3px 1px rgba(0, 0, 0, 0.15);\n",
              "      filter: drop-shadow(0px 1px 2px rgba(0, 0, 0, 0.3));\n",
              "      fill: #FFFFFF;\n",
              "    }\n",
              "  </style>\n",
              "\n",
              "      <script>\n",
              "        const buttonEl =\n",
              "          document.querySelector('#df-72366807-7616-449f-9695-b84db447a972 button.colab-df-convert');\n",
              "        buttonEl.style.display =\n",
              "          google.colab.kernel.accessAllowed ? 'block' : 'none';\n",
              "\n",
              "        async function convertToInteractive(key) {\n",
              "          const element = document.querySelector('#df-72366807-7616-449f-9695-b84db447a972');\n",
              "          const dataTable =\n",
              "            await google.colab.kernel.invokeFunction('convertToInteractive',\n",
              "                                                     [key], {});\n",
              "          if (!dataTable) return;\n",
              "\n",
              "          const docLinkHtml = 'Like what you see? Visit the ' +\n",
              "            '<a target=\"_blank\" href=https://colab.research.google.com/notebooks/data_table.ipynb>data table notebook</a>'\n",
              "            + ' to learn more about interactive tables.';\n",
              "          element.innerHTML = '';\n",
              "          dataTable['output_type'] = 'display_data';\n",
              "          await google.colab.output.renderOutput(dataTable, element);\n",
              "          const docLink = document.createElement('div');\n",
              "          docLink.innerHTML = docLinkHtml;\n",
              "          element.appendChild(docLink);\n",
              "        }\n",
              "      </script>\n",
              "    </div>\n",
              "  </div>\n",
              "  "
            ],
            "text/plain": [
              "   Project_Type Topics Sub_Topic  Difficulty  \\\n",
              "0             2      7         6           6   \n",
              "2             1      4         1          18   \n",
              "3             2      2        11          16   \n",
              "4             0      0         3          15   \n",
              "5             2      1         7          13   \n",
              "7             2      3         2          18   \n",
              "8             2      5        13          19   \n",
              "10            1      4         1          21   \n",
              "\n",
              "                                              Workers  \n",
              "0   [Gabriel Kheisa, Nyoman Satiya Najwa Sadha, Ch...  \n",
              "2   [Andi Rezal Oktavianto, Imam, Abiyyu Diora Haq...  \n",
              "3   [Andhika Zulfikri, I Putu Ranantha Nugraha Sup...  \n",
              "4   [Chairul Rizqi, Sandrian Yulianto, Abdullah Nu...  \n",
              "5   [Azis Sofyanto, Suci Rahmadani, I Putu Rananth...  \n",
              "7   [Farel Eden, Christopher Kristianto, Christoph...  \n",
              "8   [Alvin Tan, Bagja Kurniadi, Sarah Sema Khairun...  \n",
              "10  [Andi Rezal Oktavianto, Imam, Abiyyu Diora Haq...  "
            ]
          },
          "execution_count": 33,
          "metadata": {},
          "output_type": "execute_result"
        }
      ],
      "source": [
        "strezjing = df.loc[:10,:]\n",
        "strezjing = strezjing.drop(labels=[1,9,6])\n",
        "strezjing"
      ]
    },
    {
      "cell_type": "code",
      "execution_count": 34,
      "metadata": {
        "colab": {
          "base_uri": "https://localhost:8080/",
          "height": 143
        },
        "id": "80NdZE_dwZ-R",
        "outputId": "4103820f-62a8-43ab-9fdf-3a16c007f805"
      },
      "outputs": [
        {
          "data": {
            "text/html": [
              "\n",
              "  <div id=\"df-88948676-d060-4526-adff-dd2e1476280b\">\n",
              "    <div class=\"colab-df-container\">\n",
              "      <div>\n",
              "<style scoped>\n",
              "    .dataframe tbody tr th:only-of-type {\n",
              "        vertical-align: middle;\n",
              "    }\n",
              "\n",
              "    .dataframe tbody tr th {\n",
              "        vertical-align: top;\n",
              "    }\n",
              "\n",
              "    .dataframe thead th {\n",
              "        text-align: right;\n",
              "    }\n",
              "</style>\n",
              "<table border=\"1\" class=\"dataframe\">\n",
              "  <thead>\n",
              "    <tr style=\"text-align: right;\">\n",
              "      <th></th>\n",
              "      <th>0</th>\n",
              "    </tr>\n",
              "  </thead>\n",
              "  <tbody>\n",
              "    <tr>\n",
              "      <th>Christopher Kristianto</th>\n",
              "      <td>42.0</td>\n",
              "    </tr>\n",
              "    <tr>\n",
              "      <th>Gabriel Kheisa</th>\n",
              "      <td>41.0</td>\n",
              "    </tr>\n",
              "    <tr>\n",
              "      <th>Sarah Sema Khairunisa</th>\n",
              "      <td>34.0</td>\n",
              "    </tr>\n",
              "  </tbody>\n",
              "</table>\n",
              "</div>\n",
              "      <button class=\"colab-df-convert\" onclick=\"convertToInteractive('df-88948676-d060-4526-adff-dd2e1476280b')\"\n",
              "              title=\"Convert this dataframe to an interactive table.\"\n",
              "              style=\"display:none;\">\n",
              "        \n",
              "  <svg xmlns=\"http://www.w3.org/2000/svg\" height=\"24px\"viewBox=\"0 0 24 24\"\n",
              "       width=\"24px\">\n",
              "    <path d=\"M0 0h24v24H0V0z\" fill=\"none\"/>\n",
              "    <path d=\"M18.56 5.44l.94 2.06.94-2.06 2.06-.94-2.06-.94-.94-2.06-.94 2.06-2.06.94zm-11 1L8.5 8.5l.94-2.06 2.06-.94-2.06-.94L8.5 2.5l-.94 2.06-2.06.94zm10 10l.94 2.06.94-2.06 2.06-.94-2.06-.94-.94-2.06-.94 2.06-2.06.94z\"/><path d=\"M17.41 7.96l-1.37-1.37c-.4-.4-.92-.59-1.43-.59-.52 0-1.04.2-1.43.59L10.3 9.45l-7.72 7.72c-.78.78-.78 2.05 0 2.83L4 21.41c.39.39.9.59 1.41.59.51 0 1.02-.2 1.41-.59l7.78-7.78 2.81-2.81c.8-.78.8-2.07 0-2.86zM5.41 20L4 18.59l7.72-7.72 1.47 1.35L5.41 20z\"/>\n",
              "  </svg>\n",
              "      </button>\n",
              "      \n",
              "  <style>\n",
              "    .colab-df-container {\n",
              "      display:flex;\n",
              "      flex-wrap:wrap;\n",
              "      gap: 12px;\n",
              "    }\n",
              "\n",
              "    .colab-df-convert {\n",
              "      background-color: #E8F0FE;\n",
              "      border: none;\n",
              "      border-radius: 50%;\n",
              "      cursor: pointer;\n",
              "      display: none;\n",
              "      fill: #1967D2;\n",
              "      height: 32px;\n",
              "      padding: 0 0 0 0;\n",
              "      width: 32px;\n",
              "    }\n",
              "\n",
              "    .colab-df-convert:hover {\n",
              "      background-color: #E2EBFA;\n",
              "      box-shadow: 0px 1px 2px rgba(60, 64, 67, 0.3), 0px 1px 3px 1px rgba(60, 64, 67, 0.15);\n",
              "      fill: #174EA6;\n",
              "    }\n",
              "\n",
              "    [theme=dark] .colab-df-convert {\n",
              "      background-color: #3B4455;\n",
              "      fill: #D2E3FC;\n",
              "    }\n",
              "\n",
              "    [theme=dark] .colab-df-convert:hover {\n",
              "      background-color: #434B5C;\n",
              "      box-shadow: 0px 1px 3px 1px rgba(0, 0, 0, 0.15);\n",
              "      filter: drop-shadow(0px 1px 2px rgba(0, 0, 0, 0.3));\n",
              "      fill: #FFFFFF;\n",
              "    }\n",
              "  </style>\n",
              "\n",
              "      <script>\n",
              "        const buttonEl =\n",
              "          document.querySelector('#df-88948676-d060-4526-adff-dd2e1476280b button.colab-df-convert');\n",
              "        buttonEl.style.display =\n",
              "          google.colab.kernel.accessAllowed ? 'block' : 'none';\n",
              "\n",
              "        async function convertToInteractive(key) {\n",
              "          const element = document.querySelector('#df-88948676-d060-4526-adff-dd2e1476280b');\n",
              "          const dataTable =\n",
              "            await google.colab.kernel.invokeFunction('convertToInteractive',\n",
              "                                                     [key], {});\n",
              "          if (!dataTable) return;\n",
              "\n",
              "          const docLinkHtml = 'Like what you see? Visit the ' +\n",
              "            '<a target=\"_blank\" href=https://colab.research.google.com/notebooks/data_table.ipynb>data table notebook</a>'\n",
              "            + ' to learn more about interactive tables.';\n",
              "          element.innerHTML = '';\n",
              "          dataTable['output_type'] = 'display_data';\n",
              "          await google.colab.output.renderOutput(dataTable, element);\n",
              "          const docLink = document.createElement('div');\n",
              "          docLink.innerHTML = docLinkHtml;\n",
              "          element.appendChild(docLink);\n",
              "        }\n",
              "      </script>\n",
              "    </div>\n",
              "  </div>\n",
              "  "
            ],
            "text/plain": [
              "                           0\n",
              "Christopher Kristianto  42.0\n",
              "Gabriel Kheisa          41.0\n",
              "Sarah Sema Khairunisa   34.0"
            ]
          },
          "execution_count": 34,
          "metadata": {},
          "output_type": "execute_result"
        }
      ],
      "source": [
        "# Converting the prediction into dataframe\n",
        "predf = pd.DataFrame(yhat[0], index=mlb.classes_)\n",
        "predf = predf.multiply(100).round(0).sort_values(by=0, ascending=False)\n",
        "predf = predf[predf[0] >= 1].head(3)\n",
        "predf"
      ]
    },
    {
      "cell_type": "code",
      "execution_count": 35,
      "metadata": {
        "id": "4dJd3_UbruvX"
      },
      "outputs": [],
      "source": [
        "# using test set\n",
        "#model.fit(x=train, y=train_labels2, validation_data=(test, test_labels2), epochs=20, verbose=1)"
      ]
    },
    {
      "cell_type": "code",
      "execution_count": 35,
      "metadata": {
        "id": "gxl-NniqvHM0"
      },
      "outputs": [],
      "source": []
    },
    {
      "cell_type": "code",
      "execution_count": 36,
      "metadata": {
        "id": "SsDY_qH-p5O8"
      },
      "outputs": [],
      "source": [
        "#model.fit(df, labels_bin, verbose=1, epochs=20)"
      ]
    },
    {
      "cell_type": "code",
      "execution_count": 37,
      "metadata": {
        "id": "RusLUNOqqmCu"
      },
      "outputs": [],
      "source": [
        "# fit the model on all data\n",
        "#model.fit(df, labels_bin, verbose=1, epochs=100)"
      ]
    },
    {
      "cell_type": "code",
      "execution_count": 38,
      "metadata": {
        "id": "L0Xg6lQix_JJ"
      },
      "outputs": [],
      "source": [
        "# ga ngerti caranya bre evaluatenya\n",
        "#model.evaluate(train, validation=test)"
      ]
    },
    {
      "cell_type": "code",
      "execution_count": 39,
      "metadata": {
        "id": "Eo0Jl4fgp8qo"
      },
      "outputs": [],
      "source": [
        "#model2 = get_model(n_inputs, n_outputs)\n",
        "#model2.fit()"
      ]
    },
    {
      "cell_type": "code",
      "execution_count": 40,
      "metadata": {
        "id": "VfR8TrgTR6Tm"
      },
      "outputs": [],
      "source": [
        "#model.summary()"
      ]
    },
    {
      "cell_type": "code",
      "execution_count": 41,
      "metadata": {
        "id": "qfeQMhGMD1AZ"
      },
      "outputs": [],
      "source": [
        "#print(np.asarray(df[:10]))"
      ]
    },
    {
      "cell_type": "code",
      "execution_count": 42,
      "metadata": {
        "id": "XRgRhjX7tJxg"
      },
      "outputs": [],
      "source": [
        "# make a prediction for new data\n",
        "#newX = np.asarray(df[:10])\n",
        "#yhat = model.predict(newX)\n",
        "\n",
        "#print(yhat)"
      ]
    },
    {
      "cell_type": "code",
      "execution_count": 43,
      "metadata": {
        "id": "ILXxwsjgKRp6"
      },
      "outputs": [],
      "source": [
        "#predf = pd.DataFrame(yhat[0], index=mlb.classes_)\n",
        "#predf.head()"
      ]
    },
    {
      "cell_type": "code",
      "execution_count": 44,
      "metadata": {
        "id": "5HuV-vLeuCyp"
      },
      "outputs": [],
      "source": [
        "#predf = predf.multiply(100).round(0).sort_values(by=0, ascending=False)"
      ]
    },
    {
      "cell_type": "code",
      "execution_count": 45,
      "metadata": {
        "id": "3zYexvLXBD9J"
      },
      "outputs": [],
      "source": [
        "#print(predf)"
      ]
    },
    {
      "cell_type": "code",
      "execution_count": 46,
      "metadata": {
        "id": "QEK7-I46t0Eu"
      },
      "outputs": [],
      "source": [
        "#hasil = predf[0:5]\n",
        "\n",
        "#hasil"
      ]
    },
    {
      "cell_type": "code",
      "execution_count": 46,
      "metadata": {
        "id": "76GqXYZ05EM6"
      },
      "outputs": [],
      "source": []
    }
  ],
  "metadata": {
    "colab": {
      "provenance": []
    },
    "kernelspec": {
      "display_name": "Python 3.10.0 64-bit",
      "language": "python",
      "name": "python3"
    },
    "language_info": {
      "name": "python",
      "version": "3.10.0"
    },
    "vscode": {
      "interpreter": {
        "hash": "4e92b365cb048a2e990499a2eb71e289658928a02cceb0c9c80544fe70171eca"
      }
    }
  },
  "nbformat": 4,
  "nbformat_minor": 0
}
